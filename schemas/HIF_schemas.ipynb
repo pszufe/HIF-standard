{
 "cells": [
  {
   "cell_type": "code",
   "execution_count": null,
   "id": "1e2a1770-c38a-40f1-88d9-9c84348ceee4",
   "metadata": {},
   "outputs": [],
   "source": [
    "import json\n",
    "import random\n",
    "import warnings\n",
    "\n",
    "import fastjsonschema\n",
    "import hypernetx as hnx\n",
    "import numpy as np\n",
    "import pandas as pd"
   ]
  },
  {
   "cell_type": "code",
   "execution_count": null,
   "id": "b085c415-c2fa-4883-b940-7c32d416abc6",
   "metadata": {},
   "outputs": [],
   "source": [
    "warnings.simplefilter(\"ignore\")"
   ]
  },
  {
   "cell_type": "markdown",
   "id": "922a93a1-93aa-4bf6-a1ee-73eda24ddbb3",
   "metadata": {},
   "source": [
    "## Create a hypergraph with data"
   ]
  },
  {
   "cell_type": "code",
   "execution_count": null,
   "id": "ca0a809a-2baa-4d7a-9b44-e41c3c24579c",
   "metadata": {},
   "outputs": [],
   "source": [
    "from hypernetx.utils import toys\n",
    "\n",
    "lesmis = toys.LesMis()\n",
    "names = lesmis.df_names\n",
    "scenes = lesmis.df_scenes\n",
    "scenes[\"edges\"] = [\n",
    "    \".\".join([str(scenes.loc[idx][col]) for col in scenes.columns[:-2]])\n",
    "    for idx in scenes.index\n",
    "]\n",
    "scenes[\"nodes\"] = scenes[\"Characters\"]\n",
    "scenes"
   ]
  },
  {
   "cell_type": "code",
   "execution_count": null,
   "id": "eb6cd713-17bc-4302-8d6a-727b62184ec2",
   "metadata": {},
   "outputs": [],
   "source": [
    "df = scenes[[\"edges\", \"nodes\"]]\n",
    "cell_weights = df.groupby([\"edges\"]).count().to_dict()[\"nodes\"]\n",
    "df[\"weights\"] = df.edges.map(lambda e: np.round(1 / cell_weights.get(e, 1), 2))\n",
    "df"
   ]
  },
  {
   "cell_type": "code",
   "execution_count": null,
   "id": "be6af3b7-0eac-4a5a-9bfd-4f29cd4eb12f",
   "metadata": {},
   "outputs": [],
   "source": [
    "nprops = names\n",
    "nprops[\"weights\"] = np.round(np.random.uniform(0, 1, len(names)), 2)\n",
    "nprops"
   ]
  },
  {
   "cell_type": "code",
   "execution_count": null,
   "id": "28f6518f-3926-411b-a043-1351ec98ebd2",
   "metadata": {},
   "outputs": [],
   "source": [
    "lm = hnx.Hypergraph(\n",
    "    df,\n",
    "    cell_weight_col=\"weights\",\n",
    "    node_properties=nprops,\n",
    "    node_weight_prop_col=\"weights\",\n",
    ")\n",
    "lm.dataframe"
   ]
  },
  {
   "cell_type": "code",
   "execution_count": null,
   "id": "8ba68da5-0b17-426f-b30f-4f73c6800740",
   "metadata": {},
   "outputs": [],
   "source": [
    "lm.nodes.dataframe"
   ]
  },
  {
   "cell_type": "markdown",
   "id": "2ba6f018-ae32-4541-bee4-d3813b7f4730",
   "metadata": {},
   "source": [
    "## Load schema and create validator"
   ]
  },
  {
   "cell_type": "code",
   "execution_count": null,
   "id": "237b1b5b-5578-4898-9777-73e954a63d70",
   "metadata": {},
   "outputs": [],
   "source": [
    "schema = json.load(open(\"hif_schema_v0.1.0.json\", \"r\"))\n",
    "schema"
   ]
  },
  {
   "cell_type": "code",
   "execution_count": null,
   "id": "d9f3d1c8-fb35-4fb4-b70b-b9c3a401ce00",
   "metadata": {},
   "outputs": [],
   "source": [
    "validator = fastjsonschema.compile(schema);"
   ]
  },
  {
   "cell_type": "markdown",
   "id": "60b6eb43-0e60-4044-b615-1e1c1efad41f",
   "metadata": {},
   "source": [
    "## HNX translators"
   ]
  },
  {
   "cell_type": "code",
   "execution_count": null,
   "id": "67b49e3e-ca3a-4bab-91ec-d683e9700340",
   "metadata": {},
   "outputs": [],
   "source": [
    "def to_hif(hg):\n",
    "    edgj = hg.edges.to_dataframe\n",
    "    edid = edgj.index._name or \"index\"\n",
    "    nodj = hg.nodes.to_dataframe\n",
    "    ndid = nodj.index._name or \"index\"\n",
    "    edgj = edgj.reset_index().rename(columns={edid: \"edge\"}).to_dict(orient=\"records\")\n",
    "    nodj = nodj.reset_index().rename(columns={ndid: \"node\"}).to_dict(orient=\"records\")\n",
    "    incj = (\n",
    "        hg.incidences.to_dataframe.reset_index()\n",
    "        .rename(columns={\"nodes\": \"node\", \"edges\": \"edge\"})\n",
    "        .to_dict(orient=\"records\")\n",
    "    )\n",
    "    hif = {\"edges\": edgj, \"nodes\": nodj, \"incidences\": incj}\n",
    "    return hif\n",
    "\n",
    "\n",
    "def from_hif(hif):\n",
    "    edges = pd.DataFrame(hif[\"edges\"])\n",
    "    nodes = pd.DataFrame(hif[\"nodes\"])\n",
    "    incidences = pd.DataFrame(hif[\"incidences\"])\n",
    "    return hnx.Hypergraph(incidences, node_properties=nodes, edge_properties=edges)"
   ]
  },
  {
   "cell_type": "code",
   "execution_count": null,
   "id": "92d95a42-0d82-4377-a16d-e47dbb4d081d",
   "metadata": {},
   "outputs": [],
   "source": [
    "# %%timeit #5.55 ms ± 101 µs per loop (mean ± std. dev. of 7 runs, 100 loops each)\n",
    "hif = to_hif(lm)\n",
    "json.dump(hif, open(\"../examples/lesmis_hif.json\", \"w\"), allow_nan=False)"
   ]
  },
  {
   "cell_type": "code",
   "execution_count": null,
   "id": "3d02213b-3f14-4610-9d64-2474b1a0ae36",
   "metadata": {},
   "outputs": [],
   "source": [
    "# %%timeit #742 µs ± 2.52 µs per loop (mean ± std. dev. of 7 runs, 1,000 loops each)\n",
    "try:\n",
    "    validator(hif)\n",
    "except Exception as e:\n",
    "    print(e)"
   ]
  },
  {
   "cell_type": "markdown",
   "id": "a08aca51-8e46-49c2-8f7d-cfb05a03ed5b",
   "metadata": {},
   "source": [
    "## Simple Testing"
   ]
  },
  {
   "cell_type": "code",
   "execution_count": null,
   "id": "5bc81969-7121-477f-9b74-dea75793d2b2",
   "metadata": {},
   "outputs": [],
   "source": [
    "from copy import deepcopy\n",
    "\n",
    "hiftest = deepcopy(hif)\n",
    "hiftest[\"network-type\"] = \"ordered\"\n",
    "try:\n",
    "    validator(hiftest)\n",
    "except Exception as e:\n",
    "    print(e)\n",
    "validator(hiftest);"
   ]
  },
  {
   "cell_type": "code",
   "execution_count": null,
   "id": "a32db09d-d89f-4d00-847c-a358273063dc",
   "metadata": {},
   "outputs": [],
   "source": [
    "# %%timeit #9.99 ms ± 219 µs per loop (mean ± std. dev. of 7 runs, 100 loops each)\n",
    "h = from_hif(hif)"
   ]
  },
  {
   "cell_type": "code",
   "execution_count": null,
   "id": "abab89a1-f96e-4bf7-b09d-56b738a021c9",
   "metadata": {},
   "outputs": [],
   "source": [
    "h.dataframe[:5]"
   ]
  },
  {
   "cell_type": "markdown",
   "id": "96eb741b-fd6c-4ae8-b5ad-ae4ff4689548",
   "metadata": {},
   "source": [
    "## Hypergraph Examples"
   ]
  },
  {
   "cell_type": "markdown",
   "id": "d323e722-c0d8-4153-8059-da1535d7f63b",
   "metadata": {
    "execution": {
     "iopub.execute_input": "2024-08-05T23:42:12.703439Z",
     "iopub.status.busy": "2024-08-05T23:42:12.702557Z",
     "iopub.status.idle": "2024-08-05T23:42:12.706773Z",
     "shell.execute_reply": "2024-08-05T23:42:12.706110Z",
     "shell.execute_reply.started": "2024-08-05T23:42:12.703415Z"
    }
   },
   "source": [
    "### contacts-high-school"
   ]
  },
  {
   "cell_type": "code",
   "execution_count": null,
   "id": "c38f5920-47b6-40e3-9e25-7f58975df574",
   "metadata": {},
   "outputs": [],
   "source": [
    "hs = json.load(open(f\"../examples/contacts-high-school.json\", \"r\"))"
   ]
  },
  {
   "cell_type": "code",
   "execution_count": null,
   "id": "1a660f35-a8c9-4916-b742-69b3038e9f41",
   "metadata": {},
   "outputs": [],
   "source": [
    "hs.keys()"
   ]
  },
  {
   "cell_type": "code",
   "execution_count": null,
   "id": "8fce5598-c192-4ad2-a4a7-ba09967d8285",
   "metadata": {},
   "outputs": [],
   "source": [
    "hs[\"hyperedges\"][:5]"
   ]
  },
  {
   "cell_type": "code",
   "execution_count": null,
   "id": "26abab48-2080-4fb6-b192-66ff7b6c7609",
   "metadata": {
    "scrolled": true
   },
   "outputs": [],
   "source": [
    "hs[\"nodes\"][:2]"
   ]
  },
  {
   "cell_type": "code",
   "execution_count": null,
   "id": "d6f30c77-dadd-4ab5-9a9a-bad8daa537c0",
   "metadata": {},
   "outputs": [],
   "source": [
    "df = pd.DataFrame(hs[\"hyperedges\"]).fillna(\"\")\n",
    "df[\"edge\"] = df.interaction.map(lambda x: x[0])\n",
    "df[\"node\"] = df.interaction.map(lambda x: x[1])\n",
    "df = df[[\"edge\", \"node\", \"time\"]]\n",
    "\n",
    "nodedf = pd.DataFrame(hs[\"nodes\"])\n",
    "nodedf = nodedf.set_index(\"id\").reset_index().fillna(\"\")\n",
    "\n",
    "hshyp = hnx.Hypergraph(df, node_properties=nodedf)"
   ]
  },
  {
   "cell_type": "code",
   "execution_count": null,
   "id": "cc1b1334-ee10-4dcd-9d66-924c8688ba66",
   "metadata": {},
   "outputs": [],
   "source": [
    "hshyp.dataframe"
   ]
  },
  {
   "cell_type": "code",
   "execution_count": null,
   "id": "c128fc46-9834-4d84-9be9-e168640357df",
   "metadata": {},
   "outputs": [],
   "source": [
    "hshyp.nodes.dataframe"
   ]
  },
  {
   "cell_type": "code",
   "execution_count": null,
   "id": "0dc10eba-82ab-4eb9-b776-5a1b390a96d5",
   "metadata": {},
   "outputs": [],
   "source": [
    "hnx.info_dict(hshyp)"
   ]
  },
  {
   "cell_type": "code",
   "execution_count": null,
   "id": "594468de-158a-4ee3-bf8b-f97309841eea",
   "metadata": {},
   "outputs": [],
   "source": [
    "# %%timeit #18.1 ms ± 117 µs per loop (mean ± std. dev. of 7 runs, 100 loops each)\n",
    "hshif = to_hif(hshyp)"
   ]
  },
  {
   "cell_type": "code",
   "execution_count": null,
   "id": "bd499d47-5e2b-4dc3-89f6-333ea03f374b",
   "metadata": {
    "scrolled": true
   },
   "outputs": [],
   "source": [
    "try:\n",
    "    validator(hshif)\n",
    "except Exception as e:\n",
    "    print(e)"
   ]
  },
  {
   "cell_type": "code",
   "execution_count": null,
   "id": "170322d2-28b8-4a8d-8b41-f2024ef5c74c",
   "metadata": {},
   "outputs": [],
   "source": [
    "# %%timeit #26.2 ms ± 516 µs per loop (mean ± std. dev. of 7 runs, 10 loops each)\n",
    "newhshyp = from_hif(hshif)"
   ]
  },
  {
   "cell_type": "code",
   "execution_count": null,
   "id": "bf78f350-9442-4cc9-9c23-2046c5d77482",
   "metadata": {},
   "outputs": [],
   "source": [
    "hnx.info_dict(newhshyp)"
   ]
  },
  {
   "cell_type": "code",
   "execution_count": null,
   "id": "b0ca895f-32ca-4a5f-988c-384024d3faf3",
   "metadata": {},
   "outputs": [],
   "source": [
    "assert hshyp == newhshyp  ## this checks that the structure is the same"
   ]
  },
  {
   "cell_type": "code",
   "execution_count": null,
   "id": "dea72d4f-4a1d-4d41-b329-dead4e198666",
   "metadata": {},
   "outputs": [],
   "source": [
    "json.dump(\n",
    "    hshif, open(\"../examples/contacts_high_school_hif.json\", \"w\"), allow_nan=False\n",
    ")"
   ]
  },
  {
   "cell_type": "code",
   "execution_count": null,
   "id": "f09649b3-e22f-4057-9615-f796099e9c3f",
   "metadata": {},
   "outputs": [],
   "source": []
  }
 ],
 "metadata": {
  "kernelspec": {
   "display_name": "Python 3 (ipykernel)",
   "language": "python",
   "name": "python3"
  },
  "language_info": {
   "codemirror_mode": {
    "name": "ipython",
    "version": 3
   },
   "file_extension": ".py",
   "mimetype": "text/x-python",
   "name": "python",
   "nbconvert_exporter": "python",
   "pygments_lexer": "ipython3",
   "version": "3.11.8"
  }
 },
 "nbformat": 4,
 "nbformat_minor": 5
}
