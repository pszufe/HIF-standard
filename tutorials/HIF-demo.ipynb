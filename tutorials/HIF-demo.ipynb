{
 "cells": [
  {
   "cell_type": "markdown",
   "id": "a740f1ce-0463-416a-916a-282b0661133d",
   "metadata": {},
   "source": [
    "# Publications Hypergraph Demo Notebook\n",
    "\n",
    "This notebook is used to replcate the use case experiment in the paper **PAPER LINK HERE** that demonstrates the use of the hypergraph interchange formation (HIF).\n",
    "\n",
    "The following hypergraph libraries have the HIF loading and saving functions allowing for the analysis of the same hypergraph over each library:\n",
    "* HyperNetX (HNX)\n",
    "* HyperGraphX (HGX)\n",
    "* SimpleHypergraphs\n",
    "* TopoNetX\n",
    "* Hypergraph Analysis Toolbox (HAT)\n",
    "* compleX Group Interactions (XGI)"
   ]
  },
  {
   "cell_type": "markdown",
   "id": "51682d0d-d012-40ad-a12e-8f1bd097d759",
   "metadata": {},
   "source": [
    "## Publications Data as a Hypergraph\n",
    "\n",
    "This dataset consists of open source publications with the keyword \"Hypergraph\" and was collected from ArXiv, Biorxiv, DBLP and Osti. The Hypergraph has hyperedges as publications and nodes as authors. The hyperedges have attributes including funding agencies, abstract, publication date, tags, and source, while the nodes have the attributes of institutions."
   ]
  },
  {
   "cell_type": "code",
   "execution_count": null,
   "id": "3d468b3b-b266-447e-8c56-87ce970a8166",
   "metadata": {},
   "outputs": [],
   "source": [
    "# import standard packages for analysis and plotting\n",
    "import json\n",
    "\n",
    "import matplotlib.pyplot as plt\n",
    "import numpy as np\n",
    "import seaborn as sns"
   ]
  },
  {
   "cell_type": "code",
   "execution_count": null,
   "id": "2623f059-130f-40b6-a455-85e94b25d963",
   "metadata": {},
   "outputs": [],
   "source": [
    "file_path = \"data/publications.hif.json\"\n",
    "with open(file_path, \"r\") as f:\n",
    "    HIF_publications = json.load(f)"
   ]
  },
  {
   "cell_type": "markdown",
   "id": "21818a87-8230-420f-baa2-942ed771d1ba",
   "metadata": {},
   "source": [
    "# HyperNetX\n",
    "\n",
    "Here we demo loading in the hypergraph using HNX and demoing the unique homology capabilities of the library."
   ]
  },
  {
   "cell_type": "code",
   "execution_count": null,
   "id": "6e5110ac-f477-4bfd-8dae-82d8f4baa8c5",
   "metadata": {},
   "outputs": [],
   "source": [
    "import hypernetx as hnx"
   ]
  },
  {
   "cell_type": "code",
   "execution_count": null,
   "id": "e51802af-bdbe-4258-9a56-3d6db15caba3",
   "metadata": {},
   "outputs": [],
   "source": [
    "H_hnx = hnx.from_hif(HIF_publications)"
   ]
  },
  {
   "cell_type": "code",
   "execution_count": null,
   "id": "5803fa8b-c43e-402d-aca9-658afeb924a7",
   "metadata": {},
   "outputs": [],
   "source": [
    "hnx.draw(\n",
    "    H_hnx,\n",
    "    with_edge_labels=False,\n",
    "    with_node_labels=False,\n",
    "    node_radius=0.2,\n",
    "    edges_kwargs={\"lw\": 0.5},\n",
    ")"
   ]
  },
  {
   "cell_type": "code",
   "execution_count": null,
   "id": "062a35c7-3822-4229-bafa-070f7da2057d",
   "metadata": {},
   "outputs": [],
   "source": [
    "# Getting the main connected component of hypergraph\n",
    "import numpy as np\n",
    "\n",
    "Hs = list(H_hnx.s_component_subgraphs(s=1, return_singletons=False))\n",
    "I = np.argsort([len(H_CC.incidences.dataframe) for H_CC in Hs])\n",
    "Hs = [Hs[i] for i in I]\n",
    "H = Hs[-1]"
   ]
  },
  {
   "cell_type": "code",
   "execution_count": null,
   "id": "0f82e08a-6d97-4f26-a8bc-b426c9fcd6af",
   "metadata": {},
   "outputs": [],
   "source": [
    "pos = hnx.draw(\n",
    "    H,\n",
    "    with_edge_labels=False,\n",
    "    with_node_labels=True,\n",
    "    node_radius=0.2,\n",
    "    edges_kwargs={\"lw\": 0.5},\n",
    "    return_pos=True,\n",
    ")\n",
    "plt.show()"
   ]
  },
  {
   "cell_type": "markdown",
   "id": "8740dbff-3fc1-478f-a01a-e96bc99147d9",
   "metadata": {},
   "source": [
    "## One-Dimensional Homology of a Hypergraph Using HNX"
   ]
  },
  {
   "cell_type": "code",
   "execution_count": null,
   "id": "0b277e1d-4ba5-47c2-879e-57513c8c7453",
   "metadata": {},
   "outputs": [],
   "source": [
    "import hypernetx as hnx\n",
    "import matplotlib.pyplot as plt\n",
    "import numpy as np\n",
    "from matplotlib import cm\n",
    "\n",
    "# Assuming your hypergraph 'H' is already defined\n",
    "s = 1\n",
    "edge_centrality = hnx.s_closeness_centrality(H, s=s)\n",
    "\n",
    "# Get the centrality values and the edges\n",
    "edges = list(H.edges)\n",
    "centrality_values = np.array([edge_centrality[e] for e in edges])\n",
    "\n",
    "# Normalize the centrality values to the range [0, 1]\n",
    "if centrality_values.size > 0:\n",
    "    normalized_centrality = (centrality_values - np.min(centrality_values)) / (\n",
    "        np.max(centrality_values) - np.min(centrality_values)\n",
    "    )\n",
    "else:\n",
    "    normalized_centrality = np.array([])  # Handle the case of no edges\n",
    "\n",
    "# Choose a colormap\n",
    "cmap = cm.get_cmap(\"viridis\")\n",
    "\n",
    "# Map the normalized centrality values to colors\n",
    "edge_colors = cmap(normalized_centrality)\n",
    "\n",
    "# Create a dictionary to pass to edges_kwargs for coloring\n",
    "edge_style = {}\n",
    "for i, edge in enumerate(edges):\n",
    "    if i < len(edge_colors):\n",
    "        edge_style[edge] = edge_colors[i]\n",
    "\n",
    "# Create the hypergraph plot\n",
    "fig, ax = plt.subplots(figsize=(12, 8))\n",
    "hnx.draw(\n",
    "    H,\n",
    "    pos=pos,\n",
    "    with_edge_labels=False,\n",
    "    with_node_labels=True,\n",
    "    node_radius=0.2,\n",
    "    edges_kwargs={\"color\": list(edge_style.values()), \"lw\": 2, \"alpha\": 0.5},\n",
    "    ax=ax,\n",
    ")\n",
    "\n",
    "# Add the colorbar\n",
    "sm = cm.ScalarMappable(\n",
    "    cmap=cmap,\n",
    "    norm=plt.Normalize(vmin=np.min(centrality_values), vmax=np.max(centrality_values)),\n",
    ")\n",
    "sm.set_array([])  # For older versions of matplotlib\n",
    "cbar = plt.colorbar(sm, ax=ax)\n",
    "cbar.set_label(f\"{s}-Closeness Centrality\")\n",
    "\n",
    "plt.show()"
   ]
  },
  {
   "cell_type": "code",
   "execution_count": null,
   "id": "c2cd81e1-11e1-4828-bcae-b6051047b766",
   "metadata": {},
   "outputs": [],
   "source": [
    "s = 1\n",
    "print(f\"The {s}-closeness centrality of the edges in hypergraph H is:\")\n",
    "print(\"-\" * 100)\n",
    "\n",
    "d = hnx.s_closeness_centrality(H, s=s)\n",
    "for e in H.edges:\n",
    "    print(f\"{e}: {d[e]}\")"
   ]
  },
  {
   "cell_type": "markdown",
   "id": "c21ad35b-493e-4bdc-b9e5-3aab62ed3518",
   "metadata": {},
   "source": [
    "# XGI"
   ]
  },
  {
   "cell_type": "code",
   "execution_count": null,
   "id": "c829209c",
   "metadata": {},
   "outputs": [],
   "source": [
    "import xgi"
   ]
  },
  {
   "cell_type": "code",
   "execution_count": null,
   "id": "70335635-388e-4e51-a793-4f0e1cb959de",
   "metadata": {},
   "outputs": [],
   "source": [
    "H_xgi = xgi.read_hif(file_path)\n",
    "testH = H_xgi.cleanup(in_place=False)"
   ]
  },
  {
   "cell_type": "code",
   "execution_count": null,
   "id": "d4465dae",
   "metadata": {},
   "outputs": [],
   "source": [
    "fig = plt.figure(figsize=(5.5, 4))\n",
    "ax = plt.gca()\n",
    "# ax1 = ax.inset_axes([0, 0, 0.7, 1])\n",
    "# ax1.set_axis_off()\n",
    "xgi.draw(\n",
    "    testH,\n",
    "    # ax=ax1,\n",
    "    pos=xgi.pca_transform(xgi.pairwise_spring_layout(testH, seed=0)),\n",
    "    hull=True,\n",
    "    node_size=testH.nodes.degree,\n",
    "    node_fc=testH.nodes.clique_eigenvector_centrality,\n",
    ")\n",
    "\n",
    "ax1 = ax.inset_axes([0.7, 0.3, 0.25, 0.125])\n",
    "ax1.plot(testH.nodes.degree.asnumpy(), \"^\", color=\"maroon\", markersize=2, alpha=0.5, label=\"Self\")\n",
    "ax1.plot(testH.nodes.average_neighbor_degree.asnumpy(), \"o\", color=\"blue\", markersize=2, alpha=0.5, label=\"Avg. neigh.\")\n",
    "ax1.set_ylabel(\"Degree\")\n",
    "sns.despine(ax=ax1)\n",
    "\n",
    "ax2 = ax.inset_axes([0.7, 0.1, 0.25, 0.125])\n",
    "sns.despine(ax=ax2)\n",
    "ax2.plot(testH.nodes.clique_eigenvector_centrality.asnumpy(), \"o\", color=\"teal\", markersize=2, alpha=0.5)\n",
    "ax2.set_xlabel(\"Node\")\n",
    "ax2.set_ylabel(\"CEC\")\n",
    "plt.tight_layout()\n",
    "plt.savefig(\"figures/xgi.svg\", dpi=1000)"
   ]
  },
  {
   "cell_type": "code",
   "execution_count": null,
   "id": "d56b17c2",
   "metadata": {},
   "outputs": [],
   "source": [
    "plt.figure(figsize=(11, 4))\n",
    "plt.subplot(121)\n",
    "author = H_xgi.nodes.degree.argmax()\n",
    "\n",
    "print(\n",
    "    f\"{author} has published the most papers in this dataset with {H_xgi.nodes.degree[author]}\"\n",
    ")\n",
    "hist = H_xgi.nodes.degree.ashist(log_binning=True)\n",
    "plt.scatter(hist[\"bin_center\"], hist[\"value\"])\n",
    "hist = H_xgi.nodes.average_neighbor_degree.ashist(log_binning=True)\n",
    "plt.scatter(hist[\"bin_center\"], hist[\"value\"])\n",
    "plt.xscale(\"log\")\n",
    "plt.yscale(\"log\")\n",
    "plt.xlabel(\"Papers co-authored\")\n",
    "plt.ylabel(\"Number of authors\")\n",
    "sns.despine()\n",
    "\n",
    "plt.subplot(122)\n",
    "paper = H_xgi.edges.size.argmax()\n",
    "print(f\"{paper} has the most co-authors with {H_xgi.edges.size[paper]}\")\n",
    "hist = H_xgi.edges.size.ashist(log_binning=True)\n",
    "plt.scatter(hist[\"bin_center\"], hist[\"value\"])\n",
    "plt.xscale(\"log\")\n",
    "plt.yscale(\"log\")\n",
    "plt.xlabel(\"Number of co-authors\")\n",
    "plt.ylabel(\"Number of papers\")\n",
    "sns.despine()"
   ]
  },
  {
   "cell_type": "markdown",
   "id": "c77d7f35",
   "metadata": {},
   "source": [
    "# HAT"
   ]
  },
  {
   "cell_type": "code",
   "execution_count": null,
   "id": "f84facb1",
   "metadata": {},
   "outputs": [],
   "source": [
    "from HAT import Hypergraph as HatHypergraph\n",
    "from HAT.metrics import nonlinear_eigenvector_centrality\n",
    "\n",
    "H_hat = HatHypergraph.from_hif(HIF_publications)\n",
    "node_centrality, edge_centrality = nonlinear_eigenvector_centrality(H_hat, model='Linear')\n",
    "i, e = max(enumerate(edge_centrality), key=lambda y: y[1])\n",
    "name = H_hat.edges[\"edge\"][i]\n",
    "print(f'{name}: {e}')"
   ]
  }
 ],
 "metadata": {
  "kernelspec": {
   "display_name": "xgi",
   "language": "python",
   "name": "python3"
  },
  "language_info": {
   "codemirror_mode": {
    "name": "ipython",
    "version": 3
   },
   "file_extension": ".py",
   "mimetype": "text/x-python",
   "name": "python",
   "nbconvert_exporter": "python",
   "pygments_lexer": "ipython3",
   "version": "3.13.3"
  }
 },
 "nbformat": 4,
 "nbformat_minor": 5
}
