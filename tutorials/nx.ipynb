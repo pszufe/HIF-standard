{
 "cells": [
  {
   "cell_type": "code",
   "execution_count": null,
   "metadata": {},
   "outputs": [],
   "source": [
    "import networkx as nx\n",
    "\n",
    "\n",
    "def from_hif(data) -> nx.Graph:\n",
    "    g = nx.Graph()\n",
    "    for n in data.get(\"nodes\", []):\n",
    "        g.add_node(n[\"node\"], bipartite=0, weight=n.get(\"weight\", 0))\n",
    "    for e in data.get(\"edges\", []):\n",
    "        g.add_node(e[\"edge\"], bipartite=1, weight=e.get(\"weight\", 0))\n",
    "    for i in data[\"incidences\"]:\n",
    "        g.add_edge(i[\"node\"], i[\"edge\"], weight=i.get(\"weight\", 0))\n",
    "    return g"
   ]
  }
 ],
 "metadata": {
  "language_info": {
   "name": "python"
  }
 },
 "nbformat": 4,
 "nbformat_minor": 2
}
