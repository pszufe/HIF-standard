{
 "cells": [
  {
   "cell_type": "code",
   "execution_count": 11,
   "metadata": {},
   "outputs": [],
   "source": [
    "import xgi\n",
    "import hypernetx as hnx\n",
    "import hypergraphx as hgx\n",
    "import networkx as nx\n",
    "import numpy as np"
   ]
  },
  {
   "cell_type": "markdown",
   "metadata": {},
   "source": [
    "# Create a hypergraph in HypergraphX and use in other libraries\n",
    "\n",
    "HypergraphX will create an HIF-compliant file which other libraries can then read."
   ]
  },
  {
   "cell_type": "code",
   "execution_count": 12,
   "metadata": {},
   "outputs": [],
   "source": [
    "H = hgx.Hypergraph([[1, 2, 3], [4, 5, 6]])\n",
    "# H.write_hif(\"data/small_hypergraph.json\")"
   ]
  },
  {
   "cell_type": "markdown",
   "metadata": {},
   "source": [
    "# Create a hypergraph in HyperNetX and use in other libraries\n",
    "\n",
    "HyperNetX will create an HIF-compliant file which other libraries can then read."
   ]
  },
  {
   "cell_type": "code",
   "execution_count": 13,
   "metadata": {},
   "outputs": [
    {
     "name": "stderr",
     "output_type": "stream",
     "text": [
      "/opt/miniconda3/envs/xgi/lib/python3.12/site-packages/hypernetx/utils/toys/lesmis.py:37: DeprecationWarning: DataFrameGroupBy.apply operated on the grouping columns. This behavior is deprecated, and in a future version of pandas the grouping columns will be excluded from the operation. Either pass `include_groups=False` to exclude the groupings or explicitly select the grouping columns after groupby to silence this warning.\n",
      "  self.book_tour_data = self.df_scenes.groupby([\"Volume\", \"Book\"]).apply(\n",
      "/var/folders/12/5tnqqv2d58qb9hs_fcf9tcdh0000gp/T/ipykernel_36386/1799623671.py:12: SettingWithCopyWarning: \n",
      "A value is trying to be set on a copy of a slice from a DataFrame.\n",
      "Try using .loc[row_indexer,col_indexer] = value instead\n",
      "\n",
      "See the caveats in the documentation: https://pandas.pydata.org/pandas-docs/stable/user_guide/indexing.html#returning-a-view-versus-a-copy\n",
      "  df[\"weights\"] = df.edges.map(lambda e: np.round(1 / cell_weights.get(e, 1), 2))\n"
     ]
    }
   ],
   "source": [
    "lesmis = hnx.utils.toys.LesMis()\n",
    "names = lesmis.df_names\n",
    "scenes = lesmis.df_scenes\n",
    "scenes[\"edges\"] = [\n",
    "    \".\".join([str(scenes.loc[idx][col]) for col in scenes.columns[:-2]])\n",
    "    for idx in scenes.index\n",
    "]\n",
    "scenes[\"nodes\"] = scenes[\"Characters\"]\n",
    "\n",
    "df = scenes[[\"edges\", \"nodes\"]]\n",
    "cell_weights = df.groupby([\"edges\"]).count().to_dict()[\"nodes\"]\n",
    "df[\"weights\"] = df.edges.map(lambda e: np.round(1 / cell_weights.get(e, 1), 2))\n",
    "\n",
    "nprops = names\n",
    "nprops[\"weights\"] = np.round(np.random.uniform(0, 1, len(names)), 2)\n",
    "nprops\n",
    "\n",
    "H = hnx.Hypergraph(\n",
    "    df,\n",
    "    cell_weight_col=\"weights\",\n",
    "    node_properties=nprops,\n",
    "    node_weight_prop_col=\"weights\",\n",
    ")\n",
    "# H.write_hif(\"lesmis.json\")"
   ]
  },
  {
   "cell_type": "markdown",
   "metadata": {},
   "source": [
    "# Create a bipartite network in NetworkX and use in other libraries\n",
    "\n",
    "NetworkX will create an HIF-compliant file which other libraries can then read."
   ]
  },
  {
   "cell_type": "code",
   "execution_count": null,
   "metadata": {},
   "outputs": [],
   "source": []
  },
  {
   "cell_type": "markdown",
   "metadata": {},
   "source": [
    "# Create a hypergraph in SimpleHypergraphs.jl and use in other libraries\n",
    "\n",
    "SimpleHypergraphs.jl will create an HIF-compliant file which other libraries can then read."
   ]
  },
  {
   "cell_type": "markdown",
   "metadata": {},
   "source": [
    "# Create a hypergraph in XGI and use in other libraries\n",
    "\n",
    "XGI will create an HIF-compliant file which other libraries can then read."
   ]
  },
  {
   "cell_type": "code",
   "execution_count": null,
   "metadata": {},
   "outputs": [],
   "source": [
    "H = xgi.load_xgi_data(\"email-enron\")  # load a dataset from XGI-DATA\n",
    "xgi.write_hif(H, \"data/email-enron.json\")  # write that dataset to HIF"
   ]
  }
 ],
 "metadata": {
  "kernelspec": {
   "display_name": "xgi",
   "language": "python",
   "name": "python3"
  },
  "language_info": {
   "codemirror_mode": {
    "name": "ipython",
    "version": 3
   },
   "file_extension": ".py",
   "mimetype": "text/x-python",
   "name": "python",
   "nbconvert_exporter": "python",
   "pygments_lexer": "ipython3",
   "version": "3.12.4"
  }
 },
 "nbformat": 4,
 "nbformat_minor": 2
}
