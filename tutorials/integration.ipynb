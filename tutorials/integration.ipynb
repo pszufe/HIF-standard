{
 "cells": [
  {
   "cell_type": "code",
   "execution_count": 1,
   "metadata": {},
   "outputs": [
    {
     "ename": "ModuleNotFoundError",
     "evalue": "No module named 'nx_hif'",
     "output_type": "error",
     "traceback": [
      "\u001b[0;31m---------------------------------------------------------------------------\u001b[0m",
      "\u001b[0;31mModuleNotFoundError\u001b[0m                       Traceback (most recent call last)",
      "Cell \u001b[0;32mIn[1], line 5\u001b[0m\n\u001b[1;32m      3\u001b[0m \u001b[38;5;28;01mimport\u001b[39;00m \u001b[38;5;21;01mnetworkx\u001b[39;00m \u001b[38;5;28;01mas\u001b[39;00m \u001b[38;5;21;01mnx\u001b[39;00m\n\u001b[1;32m      4\u001b[0m \u001b[38;5;28;01mimport\u001b[39;00m \u001b[38;5;21;01mnumpy\u001b[39;00m \u001b[38;5;28;01mas\u001b[39;00m \u001b[38;5;21;01mnp\u001b[39;00m\n\u001b[0;32m----> 5\u001b[0m \u001b[38;5;28;01mimport\u001b[39;00m \u001b[38;5;21;01mnx_hif\u001b[39;00m\n\u001b[1;32m      6\u001b[0m \u001b[38;5;28;01mimport\u001b[39;00m \u001b[38;5;21;01mxgi\u001b[39;00m\n",
      "\u001b[0;31mModuleNotFoundError\u001b[0m: No module named 'nx_hif'"
     ]
    }
   ],
   "source": [
    "import hypergraphx as hgx\n",
    "import hypernetx as hnx\n",
    "import numpy as np\n",
    "import nx_hif\n",
    "import xgi"
   ]
  },
  {
   "cell_type": "markdown",
   "metadata": {},
   "source": [
    "# Create a hypergraph in HypergraphX and use in other libraries\n",
    "\n",
    "HypergraphX will create an HIF-compliant file which other libraries can then read."
   ]
  },
  {
   "cell_type": "code",
   "execution_count": 12,
   "metadata": {},
   "outputs": [],
   "source": [
    "H = hgx.Hypergraph([[1, 2, 3], [4, 5, 6]])\n",
    "# H.write_hif(\"data/small_hypergraph.json\")"
   ]
  },
  {
   "cell_type": "markdown",
   "metadata": {},
   "source": [
    "# Create a hypergraph in HyperNetX and use in other libraries\n",
    "\n",
    "HyperNetX will create an HIF-compliant file which other libraries can then read."
   ]
  },
  {
   "cell_type": "code",
   "execution_count": null,
   "metadata": {},
   "outputs": [],
   "source": [
    "lesmis = hnx.utils.toys.LesMis()\n",
    "names = lesmis.df_names\n",
    "scenes = lesmis.df_scenes\n",
    "scenes[\"edges\"] = [\n",
    "    \".\".join([str(scenes.loc[idx][col]) for col in scenes.columns[:-2]])\n",
    "    for idx in scenes.index\n",
    "]\n",
    "scenes[\"nodes\"] = scenes[\"Characters\"]\n",
    "\n",
    "df = scenes[[\"edges\", \"nodes\"]]\n",
    "cell_weights = df.groupby([\"edges\"]).count().to_dict()[\"nodes\"]\n",
    "df[\"weights\"] = df.edges.map(lambda e: np.round(1 / cell_weights.get(e, 1), 2))\n",
    "\n",
    "nprops = names\n",
    "nprops[\"weights\"] = np.round(np.random.uniform(0, 1, len(names)), 2)\n",
    "nprops\n",
    "\n",
    "H = hnx.Hypergraph(\n",
    "    df,\n",
    "    cell_weight_col=\"weights\",\n",
    "    node_properties=nprops,\n",
    "    node_weight_prop_col=\"weights\",\n",
    ")\n",
    "# H.write_hif(\"lesmis.json\")"
   ]
  },
  {
   "cell_type": "markdown",
   "metadata": {},
   "source": [
    "# Create a bipartite network in NetworkX and use in other libraries\n",
    "\n",
    "NetworkX will create an HIF-compliant file which other libraries can then read."
   ]
  },
  {
   "cell_type": "code",
   "execution_count": null,
   "metadata": {},
   "outputs": [],
   "source": [
    "G = nx_hif.read_hif(\"data/email-enron.json\")\n",
    "H = xgi.from_bipartite_graph(G)\n",
    "H = H.cleanup()\n",
    "xgi.draw(H)"
   ]
  },
  {
   "cell_type": "markdown",
   "metadata": {},
   "source": [
    "# Create a hypergraph in SimpleHypergraphs.jl and use in other libraries\n",
    "\n",
    "SimpleHypergraphs.jl will create an HIF-compliant file which other libraries can then read."
   ]
  },
  {
   "cell_type": "markdown",
   "metadata": {},
   "source": [
    "# Create a hypergraph in XGI and use in other libraries\n",
    "\n",
    "XGI will create an HIF-compliant file which other libraries can then read."
   ]
  },
  {
   "cell_type": "code",
   "execution_count": null,
   "metadata": {},
   "outputs": [],
   "source": [
    "H = xgi.load_xgi_data(\"email-enron\")  # load a dataset from XGI-DATA\n",
    "xgi.write_hif(H, \"data/email-enron.json\")  # write that dataset to HIF"
   ]
  }
 ],
 "metadata": {
  "kernelspec": {
   "display_name": "xgi",
   "language": "python",
   "name": "python3"
  },
  "language_info": {
   "codemirror_mode": {
    "name": "ipython",
    "version": 3
   },
   "file_extension": ".py",
   "mimetype": "text/x-python",
   "name": "python",
   "nbconvert_exporter": "python",
   "pygments_lexer": "ipython3",
   "version": "3.12.4"
  }
 },
 "nbformat": 4,
 "nbformat_minor": 2
}
