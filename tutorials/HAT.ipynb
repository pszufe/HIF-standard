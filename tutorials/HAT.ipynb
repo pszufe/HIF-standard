{
 "cells": [
  {
   "cell_type": "markdown",
   "metadata": {},
   "source": [
    "# Examples using HIF translators with HAT\n",
    "\n",
    "[HAT (Hypergraph Analysis Toolbox)](https://hypergraph-analysis-toolbox.readthedocs.io/en/latest/) is a python package for studying the structure and dynamics of hypergraphs. This notebook provides examples to make `HAT.Hypergraph`s compatible with other libraries based on the HIF standard.\n",
    "\n",
    "This notebook has three parts:\n",
    "1. Install and import the packages\n",
    "2. Load a HIF compatible JSON file\n",
    "3. Build the `HAT.Hypergraph`\n",
    "4. Demonstrate how to reproduce a HIF compatible hypergraph"
   ]
  },
  {
   "cell_type": "markdown",
   "metadata": {},
   "source": [
    "## Load HIF File"
   ]
  },
  {
   "cell_type": "code",
   "execution_count": null,
   "metadata": {},
   "outputs": [],
   "source": [
    "import json\n",
    "import os\n",
    "\n",
    "import fastjsonschema\n",
    "from HAT import Hypergraph"
   ]
  },
  {
   "cell_type": "code",
   "execution_count": null,
   "metadata": {},
   "outputs": [],
   "source": [
    "with open(os.path.join(\"data\", \"e-coli.json\"), \"r\") as file:\n",
    "    # Load the JSON data from the file\n",
    "    hif_data = json.load(file)"
   ]
  },
  {
   "cell_type": "markdown",
   "metadata": {},
   "source": [
    "## Convert to HAT\n",
    "\n",
    "The `HAT.Hypergraph.from_hif` method converts the data loaded from a HIF `JSON` file into a Hypergraph."
   ]
  },
  {
   "cell_type": "code",
   "execution_count": null,
   "metadata": {},
   "outputs": [],
   "source": [
    "HG = Hypergraph.from_hif(hif_data)"
   ]
  },
  {
   "cell_type": "markdown",
   "metadata": {},
   "source": [
    "Metadata associated with each node can be viewed in the `nodes` and `edges` dataframes:"
   ]
  },
  {
   "cell_type": "code",
   "execution_count": null,
   "metadata": {},
   "outputs": [],
   "source": [
    "HG.nodes"
   ]
  },
  {
   "cell_type": "code",
   "execution_count": null,
   "metadata": {},
   "outputs": [],
   "source": [
    "HG.edges"
   ]
  },
  {
   "cell_type": "markdown",
   "metadata": {},
   "source": [
    "## Convert Back to HIF\n",
    "\n",
    "The `Hypergraph.to_hif` method converts the hypergraph object back to a python dictionary according to the HIF schema. This dictionary can be saved to a `JSON` file."
   ]
  },
  {
   "cell_type": "code",
   "execution_count": null,
   "metadata": {},
   "outputs": [],
   "source": [
    "hif_output = HG.to_hif()"
   ]
  },
  {
   "cell_type": "code",
   "execution_count": null,
   "metadata": {},
   "outputs": [],
   "source": [
    "schema = json.load(open(\"../schemas/hif_schema.json\", \"r\"))\n",
    "validator = fastjsonschema.compile(schema)"
   ]
  },
  {
   "cell_type": "code",
   "execution_count": null,
   "metadata": {},
   "outputs": [],
   "source": [
    "## The validator confirms the json read conforms to the HIF standard\n",
    "output = validator(hif_output)\n",
    "\n",
    "print(\"metadata: \", output[\"metadata\"], \"\\n\")\n",
    "print(\"network-type: \", output[\"network-type\"])"
   ]
  }
 ],
 "metadata": {
  "kernelspec": {
   "display_name": "xgi",
   "language": "python",
   "name": "python3"
  },
  "language_info": {
   "codemirror_mode": {
    "name": "ipython",
    "version": 3
   },
   "file_extension": ".py",
   "mimetype": "text/x-python",
   "name": "python",
   "nbconvert_exporter": "python",
   "pygments_lexer": "ipython3",
   "version": "3.12.4"
  }
 },
 "nbformat": 4,
 "nbformat_minor": 2
}
