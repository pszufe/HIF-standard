{
 "cells": [
  {
   "cell_type": "code",
   "execution_count": 2,
   "metadata": {},
   "outputs": [],
   "source": [
    "import nx_hif\n",
    "import toponetx as tnx\n",
    "\n",
    "H_nx = nx_hif.read_hif(\"data/publications.hif.json\")\n",
    "H_tnx = tnx.SimplicialComplex(\n",
    "    [\n",
    "        [H_nx.nodes[n][\"edge\"] for n in H_nx[e]]\n",
    "        for e, b in H_nx.nodes(data=\"bipartite\")\n",
    "        if b == 0\n",
    "    ]\n",
    ")\n",
    "tnx_maximal_simplices = H_tnx.get_all_maximal_simplices()\n",
    "tnx_maximal = max(tnx_maximal_simplices, key=len)"
   ]
  },
  {
   "cell_type": "code",
   "execution_count": 3,
   "metadata": {},
   "outputs": [
    {
     "name": "stdout",
     "output_type": "stream",
     "text": [
      "Nodes set: ('A Survey on Hypergraph Neural Networks: An In-Depth and Step-By-Step Guide', 'Beyond Graphs: Can Large Language Models Comprehend Hypergraphs?', 'Hyper-3DG: Text-to-3D Gaussian Generation via Hypergraph', 'Hyper-YOLO: When Visual Object Detection Meets Hypergraph Computation', 'Hypergraph Dynamic System', 'Hypergraph Isomorphism Computation', 'Hypergraph-Based Multi-Modal Representation for Open-Set 3D Object Retrieval', 'Hypergraph-Based Multi-View Action Recognition Using Event Cameras', 'Hypergraph-Guided Disentangled Spectrum Transformer Networks for Near-Infrared Facial Expression Recognition', 'Hypergraph-based Multi-View Action Recognition using Event Cameras', 'LightHGNN: Distilling Hypergraph Neural Networks into MLPs for $100\\\\times$ Faster Inference', 'LightHGNN: Distilling Hypergraph Neural Networks into MLPs for 100x Faster Inference', 'Multi-View Time-Series Hypergraph Neural Network for Action Recognition', 'Penalized Flow Hypergraph Local Clustering'), attrs: {}\n"
     ]
    }
   ],
   "source": [
    "print(tnx_maximal)"
   ]
  }
 ],
 "metadata": {
  "kernelspec": {
   "display_name": ".venv",
   "language": "python",
   "name": "python3"
  },
  "language_info": {
   "codemirror_mode": {
    "name": "ipython",
    "version": 3
   },
   "file_extension": ".py",
   "mimetype": "text/x-python",
   "name": "python",
   "nbconvert_exporter": "python",
   "pygments_lexer": "ipython3",
   "version": "3.12.1"
  }
 },
 "nbformat": 4,
 "nbformat_minor": 2
}
