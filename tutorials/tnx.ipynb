{
 "cells": [
  {
   "cell_type": "code",
   "execution_count": 7,
   "metadata": {},
   "outputs": [
    {
     "name": "stdout",
     "output_type": "stream",
     "text": [
      "400\n"
     ]
    }
   ],
   "source": [
    "import nx_hif\n",
    "import toponetx as tnx\n",
    "\n",
    "H_nx = nx_hif.read_hif(\"data/publications.hif.json\")\n",
    "H_tnx = tnx.SimplicialComplex(\n",
    "    [\n",
    "        [H_nx.nodes[n][\"edge\"] for n in H_nx[e]]\n",
    "        for e, b in H_nx.nodes(data=\"bipartite\")\n",
    "        if b == 0\n",
    "    ]\n",
    ")\n",
    "tnx_maximal_simplices = H_tnx.get_all_maximal_simplices()\n",
    "print(len([s for s in tnx_maximal_simplices]))"
   ]
  }
 ],
 "metadata": {
  "kernelspec": {
   "display_name": "xgi",
   "language": "python",
   "name": "python3"
  },
  "language_info": {
   "codemirror_mode": {
    "name": "ipython",
    "version": 3
   },
   "file_extension": ".py",
   "mimetype": "text/x-python",
   "name": "python",
   "nbconvert_exporter": "python",
   "pygments_lexer": "ipython3",
   "version": "3.13.3"
  }
 },
 "nbformat": 4,
 "nbformat_minor": 2
}
