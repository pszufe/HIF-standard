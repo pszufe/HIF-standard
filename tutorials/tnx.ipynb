{
 "cells": [
  {
   "cell_type": "code",
   "execution_count": null,
   "metadata": {},
   "outputs": [],
   "source": [
    "import nx_hif\n",
    "import toponetx as tnx\n",
    "\n",
    "G_hif = nx_hif.read_hif(\"data/lesmis.hif.json\")\n",
    "H = tnx.SimplicialComplex(\n",
    "    [\n",
    "        [G_hif.nodes[n][\"node\"] for n in G_hif[e]]\n",
    "        for e, b in G_hif.nodes(data=\"bipartite\")\n",
    "        if b == 1\n",
    "    ]\n",
    ")"
   ]
  },
  {
   "cell_type": "code",
   "execution_count": 2,
   "metadata": {},
   "outputs": [
    {
     "data": {
      "text/plain": [
       "[Simplex(('BS',)),\n",
       " Simplex(('LP',)),\n",
       " Simplex(('VI',)),\n",
       " Simplex(('BO', 'JV')),\n",
       " Simplex(('BT', 'GI')),\n",
       " Simplex(('BT', 'MA')),\n",
       " Simplex(('BU', 'GA')),\n",
       " Simplex(('BU', 'JD')),\n",
       " Simplex(('BZ', 'TH')),\n",
       " Simplex(('CL', 'MY')),\n",
       " Simplex(('CO', 'TG')),\n",
       " Simplex(('CO', 'TM')),\n",
       " Simplex(('CR', 'EP')),\n",
       " Simplex(('CV', 'MY')),\n",
       " Simplex(('EN', 'QU')),\n",
       " Simplex(('EP', 'MA')),\n",
       " Simplex(('EP', 'MM')),\n",
       " Simplex(('FF', 'GR')),\n",
       " Simplex(('FN', 'MT')),\n",
       " Simplex(('GA', 'JA')),\n",
       " Simplex(('GA', 'JV')),\n",
       " Simplex(('GA', 'MO')),\n",
       " Simplex(('GE', 'MY')),\n",
       " Simplex(('GG', 'MY')),\n",
       " Simplex(('GI', 'MN')),\n",
       " Simplex(('GI', 'TG')),\n",
       " Simplex(('GP', 'MA')),\n",
       " Simplex(('GP', 'MP')),\n",
       " Simplex(('GP', 'TH')),\n",
       " Simplex(('IS', 'JV')),\n",
       " Simplex(('JA', 'LL')),\n",
       " Simplex(('JA', 'PO')),\n",
       " Simplex(('JA', 'SS')),\n",
       " Simplex(('JL', 'JV')),\n",
       " Simplex(('JV', 'MO')),\n",
       " Simplex(('JV', 'MR')),\n",
       " Simplex(('JV', 'MT')),\n",
       " Simplex(('JV', 'PG')),\n",
       " Simplex(('JV', 'PO')),\n",
       " Simplex(('JV', 'SC')),\n",
       " Simplex(('JV', 'SS')),\n",
       " Simplex(('JV', 'TS')),\n",
       " Simplex(('MA', 'MM')),\n",
       " Simplex(('MA', 'TG')),\n",
       " Simplex(('MA', 'TH')),\n",
       " Simplex(('MC', 'MY')),\n",
       " Simplex(('MG', 'MP')),\n",
       " Simplex(('MG', 'MV')),\n",
       " Simplex(('MG', 'TG')),\n",
       " Simplex(('MM', 'PL')),\n",
       " Simplex(('MN', 'TM')),\n",
       " Simplex(('MY', 'NP')),\n",
       " Simplex(('MY', 'SN')),\n",
       " Simplex(('BB', 'JA', 'TH')),\n",
       " Simplex(('BM', 'FN', 'JA')),\n",
       " Simplex(('CO', 'FT', 'MA')),\n",
       " Simplex(('CO', 'JA', 'TS')),\n",
       " Simplex(('CO', 'JV', 'LL')),\n",
       " Simplex(('CO', 'JV', 'TH')),\n",
       " Simplex(('EN', 'JA', 'JV')),\n",
       " Simplex(('EN', 'JV', 'MA')),\n",
       " Simplex(('FF', 'JA', 'JV')),\n",
       " Simplex(('FF', 'JV', 'MI')),\n",
       " Simplex(('FN', 'JA', 'JV')),\n",
       " Simplex(('FN', 'SP', 'SS')),\n",
       " Simplex(('FN', 'TH', 'TM')),\n",
       " Simplex(('GA', 'XA', 'XB')),\n",
       " Simplex(('JA', 'TH', 'TM')),\n",
       " Simplex(('AZ', 'EP', 'TH', 'TM')),\n",
       " Simplex(('BO', 'GT', 'HL', 'JO')),\n",
       " Simplex(('CM', 'CR', 'EN', 'GT')),\n",
       " Simplex(('JV', 'MB', 'ME', 'MY')),\n",
       " Simplex(('BA', 'CR', 'EN', 'GA', 'HL')),\n",
       " Simplex(('BB', 'BJ', 'GA', 'GU', 'TH')),\n",
       " Simplex(('BB', 'GU', 'JA', 'MO', 'QU')),\n",
       " Simplex(('CO', 'GI', 'JV', 'MA', 'MG')),\n",
       " Simplex(('BA', 'BO', 'CM', 'GA', 'JO', 'MA')),\n",
       " Simplex(('BB', 'GU', 'JV', 'QU', 'TH', 'TM')),\n",
       " Simplex(('BO', 'CM', 'CR', 'EN', 'GA', 'MA')),\n",
       " Simplex(('BB', 'BJ', 'EP', 'GU', 'MO', 'QU', 'TH')),\n",
       " Simplex(('BM', 'BR', 'CC', 'CH', 'CN', 'JU', 'JV')),\n",
       " Simplex(('BO', 'CM', 'CR', 'EN', 'FE', 'JO', 'MA')),\n",
       " Simplex(('BA', 'BO', 'CM', 'CR', 'EN', 'FE', 'JO', 'JP')),\n",
       " Simplex(('BL', 'DA', 'FA', 'FN', 'FT', 'FV', 'LI', 'ZE')),\n",
       " Simplex(('BA', 'BO', 'CM', 'CR', 'EN', 'FE', 'GA', 'JO', 'MM')),\n",
       " Simplex(('BA', 'BO', 'CR', 'EN', 'FE', 'GA', 'GT', 'JO', 'JP'))]"
      ]
     },
     "execution_count": 2,
     "metadata": {},
     "output_type": "execute_result"
    }
   ],
   "source": [
    "list(H.get_all_maximal_simplices())"
   ]
  }
 ],
 "metadata": {
  "kernelspec": {
   "display_name": ".venv",
   "language": "python",
   "name": "python3"
  },
  "language_info": {
   "codemirror_mode": {
    "name": "ipython",
    "version": 3
   },
   "file_extension": ".py",
   "mimetype": "text/x-python",
   "name": "python",
   "nbconvert_exporter": "python",
   "pygments_lexer": "ipython3",
   "version": "3.12.1"
  }
 },
 "nbformat": 4,
 "nbformat_minor": 2
}
