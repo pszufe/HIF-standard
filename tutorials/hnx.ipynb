{
 "cells": [
  {
   "cell_type": "markdown",
   "metadata": {},
   "source": [
    "## Examples using HIF translators with HNX\n",
    "\n",
    "Here we illustrate examples of using HNX with HIF formatted json objects. "
   ]
  },
  {
   "cell_type": "code",
   "execution_count": null,
   "metadata": {},
   "outputs": [],
   "source": [
    "import json\n",
    "import warnings\n",
    "\n",
    "import fastjsonschema\n",
    "import matplotlib.pyplot as plt\n",
    "import pandas as pd"
   ]
  },
  {
   "cell_type": "code",
   "execution_count": null,
   "metadata": {},
   "outputs": [],
   "source": [
    "warnings.simplefilter(\"ignore\")"
   ]
  },
  {
   "cell_type": "markdown",
   "metadata": {},
   "source": [
    "## Load schema and validator\n",
    "The schema provides a complete description of the format and typing of an HIF json object.  \n",
    "The validator is a function, which throws an error only if the object it is checking does not comply with the schema."
   ]
  },
  {
   "cell_type": "code",
   "execution_count": null,
   "metadata": {},
   "outputs": [],
   "source": [
    "schema = json.load(open(\"../schemas/hif_schema_v0.1.0.json\", \"r\"))\n",
    "validator = fastjsonschema.compile(schema)"
   ]
  },
  {
   "cell_type": "code",
   "execution_count": null,
   "metadata": {},
   "outputs": [],
   "source": [
    "schema"
   ]
  },
  {
   "cell_type": "markdown",
   "metadata": {},
   "source": [
    "## Example from HyperNetX Toys\n",
    "\n",
    "The LesMis data was developed out of the [Stanford GraphBase]( https://www-cs-faculty.stanford.edu/~knuth/sgb.html).\n",
    "\n",
    "The hypergraph relates characters to the scenes they participate in. As scenes are indexed relative to a hierarchy, we index the hyperedges by a string of numeric indices referencing the Volume, Book, Chapter, and Scene.  \n",
    "\n",
    "Character's are indexed by a two letter Symbol.  \n",
    "Additional metadata is associated with each character including the characters fullname and description. We will incorporate this data into the hypergraph.   \n",
    "Since no metadata is associated to the hyperedges, the HIF format will only include the incidences and nodes.    "
   ]
  },
  {
   "cell_type": "code",
   "execution_count": null,
   "metadata": {},
   "outputs": [],
   "source": [
    "import hypernetx as hnx\n",
    "from hypernetx.utils import toys\n",
    "\n",
    "lesmis = toys.LesMis()\n",
    "lm = lesmis.hypergraph_example()\n",
    "lm.nodes.dataframe.head()"
   ]
  },
  {
   "cell_type": "code",
   "execution_count": null,
   "metadata": {
    "scrolled": true
   },
   "outputs": [],
   "source": [
    "lm.incidences.dataframe.head()"
   ]
  },
  {
   "cell_type": "code",
   "execution_count": null,
   "metadata": {},
   "outputs": [],
   "source": [
    "hnx.info_dict(lm)"
   ]
  },
  {
   "cell_type": "code",
   "execution_count": null,
   "metadata": {},
   "outputs": [],
   "source": [
    "edges = lm.restrict_to_nodes([\"FN\"]).edges.items\n",
    "lm_small = lm.restrict_to_edges(edges).collapse_nodes_and_edges(\n",
    "    use_node_uids=[\"FN\", \"JV\"], use_counts=True, return_counts=True\n",
    ")\n",
    "plt.title(\"Subhypergraph of LesMis\")\n",
    "plt.gcf().set_figheight(5)\n",
    "hnx.draw(lm_small)"
   ]
  },
  {
   "cell_type": "code",
   "execution_count": null,
   "metadata": {},
   "outputs": [],
   "source": [
    "### View what is saved in HIF and save json to data\n",
    "lesmis_hif = hnx.to_hif(lm, filename=\"data/lesmis.hif.json\")\n",
    "\n",
    "## The validator confirms the json read conforms to the HIF standard\n",
    "output = validator(lesmis_hif)\n",
    "\n",
    "print(\"metadata: \", output[\"metadata\"], \"\\n\")\n",
    "print(\"network-type: \", output[\"network-type\"])"
   ]
  },
  {
   "cell_type": "code",
   "execution_count": null,
   "metadata": {},
   "outputs": [],
   "source": [
    "## Retrieve the hypergraph from HIF\n",
    "h = hnx.from_hif(filename=\"data/lesmis.hif.json\")\n",
    "hnx.info_dict(h)"
   ]
  },
  {
   "cell_type": "code",
   "execution_count": null,
   "metadata": {},
   "outputs": [],
   "source": [
    "h.nodes.dataframe.head()"
   ]
  },
  {
   "cell_type": "markdown",
   "metadata": {},
   "source": [
    "# Example Publications Dataset\n",
    "\n",
    "This dataset consists of open source publications with the keyword \"Hypergraph\" and was collected from ArXiv, Biorxiv, DBLP and Osti. The Hypergraph has hyperedges as publications and nodes as authors."
   ]
  },
  {
   "cell_type": "code",
   "execution_count": null,
   "metadata": {},
   "outputs": [],
   "source": [
    "H = hnx.from_hif(filename=\"data/publications.hif.json\")"
   ]
  },
  {
   "cell_type": "code",
   "execution_count": null,
   "metadata": {},
   "outputs": [],
   "source": [
    "H.nodes.dataframe"
   ]
  },
  {
   "cell_type": "code",
   "execution_count": null,
   "metadata": {},
   "outputs": [],
   "source": [
    "print(\"number of (nodes, edges):\", H.shape)"
   ]
  },
  {
   "cell_type": "code",
   "execution_count": null,
   "metadata": {},
   "outputs": [],
   "source": [
    "H.nodes.dataframe"
   ]
  },
  {
   "cell_type": "code",
   "execution_count": null,
   "metadata": {},
   "outputs": [],
   "source": [
    "hnx.draw(\n",
    "    H,\n",
    "    with_edge_labels=False,\n",
    "    with_node_labels=False,\n",
    "    node_radius=0.2,\n",
    "    edges_kwargs={\"lw\": 0.5},\n",
    ")\n",
    "plt.show()"
   ]
  },
  {
   "cell_type": "code",
   "execution_count": null,
   "metadata": {},
   "outputs": [],
   "source": [
    "# Getting the main connected component of hypergraph\n",
    "import numpy as np\n",
    "\n",
    "Hs = list(H.s_component_subgraphs(s=1, return_singletons=False))\n",
    "I = np.argsort([len(H_CC.incidences.dataframe) for H_CC in Hs])\n",
    "Hs = [Hs[i] for i in I]\n",
    "H_MC = Hs[-1]"
   ]
  },
  {
   "cell_type": "code",
   "execution_count": null,
   "metadata": {},
   "outputs": [],
   "source": [
    "hnx.algorithms.homology_mod2.betti_numbers(H, k=1)"
   ]
  },
  {
   "cell_type": "code",
   "execution_count": null,
   "metadata": {},
   "outputs": [],
   "source": [
    "hnx.draw(\n",
    "    H_MC,\n",
    "    with_edge_labels=False,\n",
    "    with_node_labels=True,\n",
    "    node_radius=0.2,\n",
    "    edges_kwargs={\"lw\": 0.5},\n",
    ")\n",
    "plt.show()"
   ]
  },
  {
   "cell_type": "markdown",
   "metadata": {},
   "source": [
    "## Examples contributed from XGI data\n"
   ]
  },
  {
   "cell_type": "markdown",
   "metadata": {
    "jp-MarkdownHeadingCollapsed": true
   },
   "source": [
    "### Contact High School\n",
    "Contact-High-School originally sourced from:\n",
    "https://www.cs.cornell.edu/~arb/data/contact-high-school/\n",
    "\n",
    "This example is already in json form, but not in the HIF standard. We construct an HNX hypergraph from the json, incorporating all data, then store it in HIF."
   ]
  },
  {
   "cell_type": "code",
   "execution_count": null,
   "metadata": {
    "execution": {
     "iopub.execute_input": "2024-12-09T03:20:16.944696Z",
     "iopub.status.busy": "2024-12-09T03:20:16.943085Z",
     "iopub.status.idle": "2024-12-09T03:20:17.184748Z",
     "shell.execute_reply": "2024-12-09T03:20:17.184446Z",
     "shell.execute_reply.started": "2024-12-09T03:20:16.944653Z"
    }
   },
   "outputs": [],
   "source": [
    "chs = json.load(open(\"data/contacts-high-school-not-hif.json\", \"r\"))\n",
    "chs.keys()"
   ]
  },
  {
   "cell_type": "code",
   "execution_count": null,
   "metadata": {
    "execution": {
     "iopub.execute_input": "2024-12-09T03:20:18.884963Z",
     "iopub.status.busy": "2024-12-09T03:20:18.884052Z",
     "iopub.status.idle": "2024-12-09T03:20:18.907822Z",
     "shell.execute_reply": "2024-12-09T03:20:18.907404Z",
     "shell.execute_reply.started": "2024-12-09T03:20:18.884923Z"
    },
    "scrolled": true
   },
   "outputs": [],
   "source": [
    "### Create a nodes dataframe with all of the properties\n",
    "chsnodes = pd.DataFrame(chs[\"nodes\"])\n",
    "chsnodes = chsnodes.set_index(\"id\").reset_index()\n",
    "chsnodes"
   ]
  },
  {
   "cell_type": "code",
   "execution_count": null,
   "metadata": {
    "execution": {
     "iopub.execute_input": "2024-12-09T03:20:25.801438Z",
     "iopub.status.busy": "2024-12-09T03:20:25.801015Z",
     "iopub.status.idle": "2024-12-09T03:20:32.157765Z",
     "shell.execute_reply": "2024-12-09T03:20:32.157462Z",
     "shell.execute_reply.started": "2024-12-09T03:20:25.801409Z"
    }
   },
   "outputs": [],
   "source": [
    "## Create an incidences datafame with timestamps included\n",
    "chsinc = (\n",
    "    pd.DataFrame(chs[\"hyperedges\"])\n",
    "    .reset_index()\n",
    "    .rename(columns={\"index\": \"edge\", \"interaction\": \"node\"})\n",
    ")\n",
    "df = (\n",
    "    chsinc[\"node\"]\n",
    "    .explode()\n",
    "    .reset_index()\n",
    "    .rename(columns={\"index\": \"edge\", \"interaction\": \"node\"})\n",
    ")\n",
    "df[\"time\"] = [chsinc.loc[row.edge].time for row in df.itertuples()]"
   ]
  },
  {
   "cell_type": "code",
   "execution_count": null,
   "metadata": {
    "execution": {
     "iopub.execute_input": "2024-12-09T03:20:32.158520Z",
     "iopub.status.busy": "2024-12-09T03:20:32.158425Z",
     "iopub.status.idle": "2024-12-09T03:20:32.163418Z",
     "shell.execute_reply": "2024-12-09T03:20:32.162811Z",
     "shell.execute_reply.started": "2024-12-09T03:20:32.158510Z"
    },
    "scrolled": true
   },
   "outputs": [],
   "source": [
    "chsinc.head(n=10)"
   ]
  },
  {
   "cell_type": "code",
   "execution_count": null,
   "metadata": {
    "execution": {
     "iopub.execute_input": "2024-12-09T03:20:32.164380Z",
     "iopub.status.busy": "2024-12-09T03:20:32.164206Z",
     "iopub.status.idle": "2024-12-09T03:20:34.826532Z",
     "shell.execute_reply": "2024-12-09T03:20:34.826166Z",
     "shell.execute_reply.started": "2024-12-09T03:20:32.164364Z"
    }
   },
   "outputs": [],
   "source": [
    "chshyp = hnx.Hypergraph(\n",
    "    df, node_properties=chsnodes, name=\"contacts-high-school from XGI\"\n",
    ")"
   ]
  },
  {
   "cell_type": "code",
   "execution_count": null,
   "metadata": {
    "execution": {
     "iopub.execute_input": "2024-12-09T03:20:34.827931Z",
     "iopub.status.busy": "2024-12-09T03:20:34.827811Z",
     "iopub.status.idle": "2024-12-09T03:21:03.231043Z",
     "shell.execute_reply": "2024-12-09T03:21:03.230677Z",
     "shell.execute_reply.started": "2024-12-09T03:20:34.827919Z"
    }
   },
   "outputs": [],
   "source": [
    "# %%time\n",
    "# CPU times: user 27.7 s, sys: 259 ms, total: 27.9 s\n",
    "# Wall time: 28 s\n",
    "\n",
    "hif = hnx.to_hif(chshyp, filename=\"../tutorials/data/contacts_high_school.hif.json\")\n",
    "hif[\"metadata\"]"
   ]
  },
  {
   "cell_type": "code",
   "execution_count": null,
   "metadata": {
    "execution": {
     "iopub.execute_input": "2024-12-09T03:21:03.231837Z",
     "iopub.status.busy": "2024-12-09T03:21:03.231660Z",
     "iopub.status.idle": "2024-12-09T03:21:03.238376Z",
     "shell.execute_reply": "2024-12-09T03:21:03.238046Z",
     "shell.execute_reply.started": "2024-12-09T03:21:03.231825Z"
    },
    "scrolled": true
   },
   "outputs": [],
   "source": [
    "hnx.info_dict(chshyp)"
   ]
  },
  {
   "cell_type": "code",
   "execution_count": null,
   "metadata": {
    "execution": {
     "iopub.execute_input": "2024-12-09T03:21:03.240026Z",
     "iopub.status.busy": "2024-12-09T03:21:03.239847Z",
     "iopub.status.idle": "2024-12-09T03:21:09.532944Z",
     "shell.execute_reply": "2024-12-09T03:21:09.532643Z",
     "shell.execute_reply.started": "2024-12-09T03:21:03.240015Z"
    }
   },
   "outputs": [],
   "source": [
    "# %time\n",
    "# CPU times: user 1e+03 ns, sys: 1e+03 ns, total: 2 μs\n",
    "# Wall time: 2.86 μs\n",
    "\n",
    "H = hnx.from_hif(filename=\"../tutorials/data/contacts_high_school.hif.json\")\n",
    "H.nodes.dataframe.head()"
   ]
  },
  {
   "cell_type": "markdown",
   "metadata": {
    "jp-MarkdownHeadingCollapsed": true
   },
   "source": [
    "### e-coli"
   ]
  },
  {
   "cell_type": "code",
   "execution_count": null,
   "metadata": {
    "execution": {
     "iopub.execute_input": "2024-12-09T03:21:09.533632Z",
     "iopub.status.busy": "2024-12-09T03:21:09.533533Z",
     "iopub.status.idle": "2024-12-09T03:21:09.563923Z",
     "shell.execute_reply": "2024-12-09T03:21:09.563605Z",
     "shell.execute_reply.started": "2024-12-09T03:21:09.533622Z"
    }
   },
   "outputs": [],
   "source": [
    "H = hnx.from_hif(filename=\"../tutorials/data/e-coli.json\")\n",
    "H.edges.dataframe.head()"
   ]
  },
  {
   "cell_type": "code",
   "execution_count": null,
   "metadata": {
    "execution": {
     "iopub.execute_input": "2024-12-09T03:21:09.564743Z",
     "iopub.status.busy": "2024-12-09T03:21:09.564565Z",
     "iopub.status.idle": "2024-12-09T03:21:09.567678Z",
     "shell.execute_reply": "2024-12-09T03:21:09.567298Z",
     "shell.execute_reply.started": "2024-12-09T03:21:09.564730Z"
    }
   },
   "outputs": [],
   "source": [
    "H.name"
   ]
  },
  {
   "cell_type": "markdown",
   "metadata": {},
   "source": [
    "### email-enron"
   ]
  },
  {
   "cell_type": "code",
   "execution_count": null,
   "metadata": {
    "execution": {
     "iopub.execute_input": "2024-12-09T03:21:09.568414Z",
     "iopub.status.busy": "2024-12-09T03:21:09.568297Z",
     "iopub.status.idle": "2024-12-09T03:21:09.926088Z",
     "shell.execute_reply": "2024-12-09T03:21:09.925732Z",
     "shell.execute_reply.started": "2024-12-09T03:21:09.568403Z"
    }
   },
   "outputs": [],
   "source": [
    "H = hnx.from_hif(filename=\"../tutorials/data/email-enron.json\")\n",
    "H.name"
   ]
  },
  {
   "cell_type": "code",
   "execution_count": null,
   "metadata": {
    "execution": {
     "iopub.execute_input": "2024-12-09T03:21:09.926771Z",
     "iopub.status.busy": "2024-12-09T03:21:09.926670Z",
     "iopub.status.idle": "2024-12-09T03:21:09.932034Z",
     "shell.execute_reply": "2024-12-09T03:21:09.931573Z",
     "shell.execute_reply.started": "2024-12-09T03:21:09.926760Z"
    }
   },
   "outputs": [],
   "source": [
    "H.nodes.dataframe.head()"
   ]
  },
  {
   "cell_type": "code",
   "execution_count": null,
   "metadata": {
    "execution": {
     "iopub.execute_input": "2024-12-09T03:21:09.934471Z",
     "iopub.status.busy": "2024-12-09T03:21:09.934319Z",
     "iopub.status.idle": "2024-12-09T03:21:09.959939Z",
     "shell.execute_reply": "2024-12-09T03:21:09.959580Z",
     "shell.execute_reply.started": "2024-12-09T03:21:09.934460Z"
    }
   },
   "outputs": [],
   "source": [
    "H.edges.dataframe.head()"
   ]
  },
  {
   "cell_type": "code",
   "execution_count": null,
   "metadata": {
    "execution": {
     "iopub.execute_input": "2024-12-09T03:21:09.960593Z",
     "iopub.status.busy": "2024-12-09T03:21:09.960496Z",
     "iopub.status.idle": "2024-12-09T03:21:10.209502Z",
     "shell.execute_reply": "2024-12-09T03:21:10.209128Z",
     "shell.execute_reply.started": "2024-12-09T03:21:09.960582Z"
    }
   },
   "outputs": [],
   "source": [
    "plt.hist(hnx.edge_size_dist(H), log=True)"
   ]
  },
  {
   "cell_type": "code",
   "execution_count": null,
   "metadata": {},
   "outputs": [],
   "source": [
    "plt.close(\"all\")"
   ]
  }
 ],
 "metadata": {
  "kernelspec": {
   "display_name": "Python 3 (ipykernel)",
   "language": "python",
   "name": "python3"
  },
  "language_info": {
   "codemirror_mode": {
    "name": "ipython",
    "version": 3
   },
   "file_extension": ".py",
   "mimetype": "text/x-python",
   "name": "python",
   "nbconvert_exporter": "python",
   "pygments_lexer": "ipython3",
   "version": "3.12.3"
  }
 },
 "nbformat": 4,
 "nbformat_minor": 4
}
