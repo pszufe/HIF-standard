{
 "cells": [
  {
   "cell_type": "markdown",
   "metadata": {},
   "source": [
    "## Examples using HIF translators with HNX\n",
    "\n",
    "Here we illustrate examples of using HNX with HIF formatted json objects. "
   ]
  },
  {
   "cell_type": "code",
   "execution_count": 1,
   "metadata": {
    "execution": {
     "iopub.execute_input": "2024-12-09T03:13:28.671396Z",
     "iopub.status.busy": "2024-12-09T03:13:28.670963Z",
     "iopub.status.idle": "2024-12-09T03:13:32.320647Z",
     "shell.execute_reply": "2024-12-09T03:13:32.320314Z",
     "shell.execute_reply.started": "2024-12-09T03:13:28.671365Z"
    }
   },
   "outputs": [],
   "source": [
    "import json\n",
    "import warnings\n",
    "\n",
    "import fastjsonschema\n",
    "import matplotlib.pyplot as plt\n",
    "import pandas as pd"
   ]
  },
  {
   "cell_type": "code",
   "execution_count": 2,
   "metadata": {
    "execution": {
     "iopub.execute_input": "2024-12-09T03:13:32.480267Z",
     "iopub.status.busy": "2024-12-09T03:13:32.478825Z",
     "iopub.status.idle": "2024-12-09T03:13:32.486117Z",
     "shell.execute_reply": "2024-12-09T03:13:32.483644Z",
     "shell.execute_reply.started": "2024-12-09T03:13:32.480217Z"
    }
   },
   "outputs": [],
   "source": [
    "warnings.simplefilter(\"ignore\")"
   ]
  },
  {
   "cell_type": "markdown",
   "metadata": {},
   "source": [
    "## Load schema and validator\n",
    "The schema provides a complete description of the format and typing of an HIF json object.  \n",
    "The validator is a function, which throws an error only if the object it is checking does not comply with the schema."
   ]
  },
  {
   "cell_type": "code",
   "execution_count": 3,
   "metadata": {
    "execution": {
     "iopub.execute_input": "2024-12-09T03:13:37.320527Z",
     "iopub.status.busy": "2024-12-09T03:13:37.320088Z",
     "iopub.status.idle": "2024-12-09T03:13:37.513736Z",
     "shell.execute_reply": "2024-12-09T03:13:37.512965Z",
     "shell.execute_reply.started": "2024-12-09T03:13:37.320495Z"
    }
   },
   "outputs": [],
   "source": [
    "schema = json.load(open(\"../schemas/hif_schema_v0.1.0.json\", \"r\"))\n",
    "validator = fastjsonschema.compile(schema)"
   ]
  },
  {
   "cell_type": "code",
   "execution_count": 4,
   "metadata": {
    "execution": {
     "iopub.execute_input": "2024-12-09T03:13:37.830037Z",
     "iopub.status.busy": "2024-12-09T03:13:37.829202Z",
     "iopub.status.idle": "2024-12-09T03:13:37.844794Z",
     "shell.execute_reply": "2024-12-09T03:13:37.843355Z",
     "shell.execute_reply.started": "2024-12-09T03:13:37.830002Z"
    }
   },
   "outputs": [
    {
     "data": {
      "text/plain": [
       "{'$schema': 'http://json-schema.org/draft-07/schema#',\n",
       " '$id': 'https://raw.githubusercontent.com/pszufe/HIF_validators/main/schemas/hif_schema_v0.1.0.json',\n",
       " 'title': 'Hypergraph Interchange Format v0.1.0',\n",
       " 'type': 'object',\n",
       " 'properties': {'network-type': {'enum': ['undirected', 'directed', 'asc']},\n",
       "  'metadata': {'type': 'object'},\n",
       "  'incidences': {'type': 'array',\n",
       "   'items': {'type': 'object',\n",
       "    'properties': {'edge': {'type': ['string', 'integer']},\n",
       "     'node': {'type': ['string', 'integer']},\n",
       "     'weight': {'type': 'number'},\n",
       "     'direction': {'enum': ['head', 'tail']},\n",
       "     'attrs': {'type': 'object'}},\n",
       "    'unevaluatedProperties': False,\n",
       "    'additionalProperties': False,\n",
       "    'required': ['edge', 'node']}},\n",
       "  'nodes': {'type': 'array',\n",
       "   'items': {'type': 'object',\n",
       "    'properties': {'node': {'type': ['string', 'integer']},\n",
       "     'weight': {'type': 'number'},\n",
       "     'attrs': {'type': 'object'}},\n",
       "    'unevaluatedProperties': False,\n",
       "    'additionalProperties': False,\n",
       "    'required': ['node']}},\n",
       "  'edges': {'type': 'array',\n",
       "   'items': {'type': 'object',\n",
       "    'properties': {'edge': {'type': ['string', 'integer']},\n",
       "     'weight': {'type': 'number'},\n",
       "     'attrs': {'type': 'object'}},\n",
       "    'unevaluatedProperties': False,\n",
       "    'additionalProperties': False,\n",
       "    'required': ['edge']}}},\n",
       " 'unevaluatedProperties': False,\n",
       " 'additionalProperties': False,\n",
       " 'required': ['incidences']}"
      ]
     },
     "execution_count": 4,
     "metadata": {},
     "output_type": "execute_result"
    }
   ],
   "source": [
    "schema"
   ]
  },
  {
   "cell_type": "markdown",
   "metadata": {},
   "source": [
    "## Example from HyperNetX Toys\n",
    "\n",
    "The LesMis data was developed out of the [Stanford GraphBase]( https://www-cs-faculty.stanford.edu/~knuth/sgb.html).\n",
    "\n",
    "The hypergraph relates characters to the scenes they participate in. As scenes are indexed relative to a hierarchy, we index the hyperedges by a string of numeric indices referencing the Volume, Book, Chapter, and Scene.  \n",
    "\n",
    "Character's are indexed by a two letter Symbol.  \n",
    "Additional metadata is associated with each character including the characters fullname and description. We will incorporate this data into the hypergraph.   \n",
    "Since no metadata is associated to the hyperedges, the HIF format will only include the incidences and nodes.    "
   ]
  },
  {
   "cell_type": "code",
   "execution_count": 5,
   "metadata": {
    "execution": {
     "iopub.execute_input": "2024-12-09T03:13:42.358022Z",
     "iopub.status.busy": "2024-12-09T03:13:42.357629Z",
     "iopub.status.idle": "2024-12-09T03:13:49.705202Z",
     "shell.execute_reply": "2024-12-09T03:13:49.704773Z",
     "shell.execute_reply.started": "2024-12-09T03:13:42.357993Z"
    }
   },
   "outputs": [
    {
     "name": "stderr",
     "output_type": "stream",
     "text": [
      "/opt/miniconda3/envs/xgi/lib/python3.12/site-packages/hypernetx/utils/toys/lesmis.py:38: DeprecationWarning: DataFrameGroupBy.apply operated on the grouping columns. This behavior is deprecated, and in a future version of pandas the grouping columns will be excluded from the operation. Either pass `include_groups=False` to exclude the groupings or explicitly select the grouping columns after groupby to silence this warning.\n",
      "  self.book_tour_data = self.df_scenes.groupby([\"Volume\", \"Book\"]).apply(\n"
     ]
    },
    {
     "data": {
      "text/html": [
       "<div>\n",
       "<style scoped>\n",
       "    .dataframe tbody tr th:only-of-type {\n",
       "        vertical-align: middle;\n",
       "    }\n",
       "\n",
       "    .dataframe tbody tr th {\n",
       "        vertical-align: top;\n",
       "    }\n",
       "\n",
       "    .dataframe thead th {\n",
       "        text-align: right;\n",
       "    }\n",
       "</style>\n",
       "<table border=\"1\" class=\"dataframe\">\n",
       "  <thead>\n",
       "    <tr style=\"text-align: right;\">\n",
       "      <th></th>\n",
       "      <th>weight</th>\n",
       "      <th>FullName</th>\n",
       "      <th>Description</th>\n",
       "      <th>misc_properties</th>\n",
       "    </tr>\n",
       "    <tr>\n",
       "      <th>uid</th>\n",
       "      <th></th>\n",
       "      <th></th>\n",
       "      <th></th>\n",
       "      <th></th>\n",
       "    </tr>\n",
       "  </thead>\n",
       "  <tbody>\n",
       "    <tr>\n",
       "      <th>MY</th>\n",
       "      <td>0.76</td>\n",
       "      <td>Monsieur Charles Fran\\c{c}ois Bienvenu Myriel</td>\n",
       "      <td>Bishop of D--</td>\n",
       "      <td>{'avocation': 'to be kind'}</td>\n",
       "    </tr>\n",
       "    <tr>\n",
       "      <th>NP</th>\n",
       "      <td>0.77</td>\n",
       "      <td>Napoleon</td>\n",
       "      <td>Emperor of France</td>\n",
       "      <td>{}</td>\n",
       "    </tr>\n",
       "    <tr>\n",
       "      <th>MB</th>\n",
       "      <td>0.69</td>\n",
       "      <td>Mademoiselle Baptistine</td>\n",
       "      <td>sister of MY</td>\n",
       "      <td>{}</td>\n",
       "    </tr>\n",
       "    <tr>\n",
       "      <th>ME</th>\n",
       "      <td>0.89</td>\n",
       "      <td>Madame Magloire</td>\n",
       "      <td>housekeeper to MY</td>\n",
       "      <td>{}</td>\n",
       "    </tr>\n",
       "    <tr>\n",
       "      <th>CL</th>\n",
       "      <td>0.38</td>\n",
       "      <td>Countess de Lô</td>\n",
       "      <td>distant relative of MY</td>\n",
       "      <td>{}</td>\n",
       "    </tr>\n",
       "  </tbody>\n",
       "</table>\n",
       "</div>"
      ],
      "text/plain": [
       "     weight                                       FullName  \\\n",
       "uid                                                          \n",
       "MY     0.76  Monsieur Charles Fran\\c{c}ois Bienvenu Myriel   \n",
       "NP     0.77                                       Napoleon   \n",
       "MB     0.69                        Mademoiselle Baptistine   \n",
       "ME     0.89                                Madame Magloire   \n",
       "CL     0.38                                 Countess de Lô   \n",
       "\n",
       "                 Description              misc_properties  \n",
       "uid                                                        \n",
       "MY             Bishop of D--  {'avocation': 'to be kind'}  \n",
       "NP         Emperor of France                           {}  \n",
       "MB              sister of MY                           {}  \n",
       "ME         housekeeper to MY                           {}  \n",
       "CL    distant relative of MY                           {}  "
      ]
     },
     "execution_count": 5,
     "metadata": {},
     "output_type": "execute_result"
    }
   ],
   "source": [
    "import hypernetx as hnx\n",
    "from hypernetx.utils import toys\n",
    "\n",
    "lesmis = toys.LesMis()\n",
    "lm = lesmis.hypergraph_example()\n",
    "lm.nodes.dataframe.head()"
   ]
  },
  {
   "cell_type": "code",
   "execution_count": 6,
   "metadata": {
    "execution": {
     "iopub.execute_input": "2024-12-09T03:13:49.706569Z",
     "iopub.status.busy": "2024-12-09T03:13:49.706305Z",
     "iopub.status.idle": "2024-12-09T03:13:49.718019Z",
     "shell.execute_reply": "2024-12-09T03:13:49.717476Z",
     "shell.execute_reply.started": "2024-12-09T03:13:49.706549Z"
    },
    "scrolled": true
   },
   "outputs": [
    {
     "data": {
      "text/html": [
       "<div>\n",
       "<style scoped>\n",
       "    .dataframe tbody tr th:only-of-type {\n",
       "        vertical-align: middle;\n",
       "    }\n",
       "\n",
       "    .dataframe tbody tr th {\n",
       "        vertical-align: top;\n",
       "    }\n",
       "\n",
       "    .dataframe thead th {\n",
       "        text-align: right;\n",
       "    }\n",
       "</style>\n",
       "<table border=\"1\" class=\"dataframe\">\n",
       "  <thead>\n",
       "    <tr style=\"text-align: right;\">\n",
       "      <th></th>\n",
       "      <th></th>\n",
       "      <th>weight</th>\n",
       "      <th>misc_properties</th>\n",
       "    </tr>\n",
       "    <tr>\n",
       "      <th>edges</th>\n",
       "      <th>nodes</th>\n",
       "      <th></th>\n",
       "      <th></th>\n",
       "    </tr>\n",
       "  </thead>\n",
       "  <tbody>\n",
       "    <tr>\n",
       "      <th rowspan=\"2\" valign=\"top\">1.1.1.0</th>\n",
       "      <th>MY</th>\n",
       "      <td>0.5</td>\n",
       "      <td>{}</td>\n",
       "    </tr>\n",
       "    <tr>\n",
       "      <th>NP</th>\n",
       "      <td>0.5</td>\n",
       "      <td>{}</td>\n",
       "    </tr>\n",
       "    <tr>\n",
       "      <th rowspan=\"2\" valign=\"top\">1.1.1.1</th>\n",
       "      <th>MY</th>\n",
       "      <td>0.5</td>\n",
       "      <td>{}</td>\n",
       "    </tr>\n",
       "    <tr>\n",
       "      <th>MB</th>\n",
       "      <td>0.5</td>\n",
       "      <td>{}</td>\n",
       "    </tr>\n",
       "    <tr>\n",
       "      <th>1.1.2.0</th>\n",
       "      <th>MY</th>\n",
       "      <td>0.5</td>\n",
       "      <td>{}</td>\n",
       "    </tr>\n",
       "  </tbody>\n",
       "</table>\n",
       "</div>"
      ],
      "text/plain": [
       "               weight misc_properties\n",
       "edges   nodes                        \n",
       "1.1.1.0 MY        0.5              {}\n",
       "        NP        0.5              {}\n",
       "1.1.1.1 MY        0.5              {}\n",
       "        MB        0.5              {}\n",
       "1.1.2.0 MY        0.5              {}"
      ]
     },
     "execution_count": 6,
     "metadata": {},
     "output_type": "execute_result"
    }
   ],
   "source": [
    "lm.incidences.dataframe.head()"
   ]
  },
  {
   "cell_type": "code",
   "execution_count": 7,
   "metadata": {
    "execution": {
     "iopub.execute_input": "2024-12-09T03:13:49.719123Z",
     "iopub.status.busy": "2024-12-09T03:13:49.718946Z",
     "iopub.status.idle": "2024-12-09T03:13:49.723516Z",
     "shell.execute_reply": "2024-12-09T03:13:49.723178Z",
     "shell.execute_reply.started": "2024-12-09T03:13:49.719108Z"
    }
   },
   "outputs": [
    {
     "data": {
      "text/plain": [
       "{'nrows': 80,\n",
       " 'ncols': 402,\n",
       " 'aspect ratio': 0.19900497512437812,\n",
       " 'ncells': 862,\n",
       " 'density': 0.026803482587064678}"
      ]
     },
     "execution_count": 7,
     "metadata": {},
     "output_type": "execute_result"
    }
   ],
   "source": [
    "hnx.info_dict(lm)"
   ]
  },
  {
   "cell_type": "code",
   "execution_count": 8,
   "metadata": {
    "execution": {
     "iopub.execute_input": "2024-12-09T03:13:49.724984Z",
     "iopub.status.busy": "2024-12-09T03:13:49.724832Z",
     "iopub.status.idle": "2024-12-09T03:13:49.988911Z",
     "shell.execute_reply": "2024-12-09T03:13:49.988595Z",
     "shell.execute_reply.started": "2024-12-09T03:13:49.724970Z"
    }
   },
   "outputs": [
    {
     "data": {
      "image/png": "[encoded data removed]",
      "text/plain": [
       "<Figure size 800x500 with 1 Axes>"
      ]
     },
     "metadata": {},
     "output_type": "display_data"
    }
   ],
   "source": [
    "edges = lm.restrict_to_nodes([\"FN\"]).edges.items\n",
    "lm_small = lm.restrict_to_edges(edges).collapse_nodes_and_edges(\n",
    "    use_node_uids=[\"FN\", \"JV\"], use_counts=True, return_counts=True\n",
    ")\n",
    "plt.title(\"Subhypergraph of LesMis\")\n",
    "plt.gcf().set_figheight(5)\n",
    "hnx.draw(lm_small)"
   ]
  },
  {
   "cell_type": "code",
   "execution_count": 9,
   "metadata": {
    "execution": {
     "iopub.execute_input": "2024-12-09T03:15:34.226504Z",
     "iopub.status.busy": "2024-12-09T03:15:34.226069Z",
     "iopub.status.idle": "2024-12-09T03:15:34.336596Z",
     "shell.execute_reply": "2024-12-09T03:15:34.336273Z",
     "shell.execute_reply.started": "2024-12-09T03:15:34.226475Z"
    }
   },
   "outputs": [
    {
     "name": "stdout",
     "output_type": "stream",
     "text": [
      "metadata:  {'default_attrs': {'nodes': {'weight': 1, 'FullName': None, 'Description': None, 'attrs': {}}, 'edges': {'weight': 1, 'attrs': {}}, 'incidences': {'weight': 1, 'attrs': {}}}, 'name': 'LesMis example from HNX'} \n",
      "\n",
      "network-type:  undirected\n"
     ]
    }
   ],
   "source": [
    "### View what is saved in HIF and save json to data\n",
    "lesmis_hif = hnx.to_hif(lm, filename=\"data/lesmis.hif.json\")\n",
    "\n",
    "## The validator confirms the json read conforms to the HIF standard\n",
    "output = validator(lesmis_hif)\n",
    "\n",
    "print(\"metadata: \", output[\"metadata\"], \"\\n\")\n",
    "print(\"network-type: \", output[\"network-type\"])"
   ]
  },
  {
   "cell_type": "code",
   "execution_count": 10,
   "metadata": {
    "execution": {
     "iopub.execute_input": "2024-12-09T03:15:37.241805Z",
     "iopub.status.busy": "2024-12-09T03:15:37.241370Z",
     "iopub.status.idle": "2024-12-09T03:15:37.299488Z",
     "shell.execute_reply": "2024-12-09T03:15:37.299058Z",
     "shell.execute_reply.started": "2024-12-09T03:15:37.241776Z"
    }
   },
   "outputs": [
    {
     "data": {
      "text/plain": [
       "{'nrows': 80,\n",
       " 'ncols': 402,\n",
       " 'aspect ratio': 0.19900497512437812,\n",
       " 'ncells': 862,\n",
       " 'density': 0.026803482587064678}"
      ]
     },
     "execution_count": 10,
     "metadata": {},
     "output_type": "execute_result"
    }
   ],
   "source": [
    "## Retrieve the hypergraph from HIF\n",
    "h = hnx.from_hif(filename=\"data/lesmis.hif.json\")\n",
    "hnx.info_dict(h)"
   ]
  },
  {
   "cell_type": "code",
   "execution_count": 11,
   "metadata": {
    "execution": {
     "iopub.execute_input": "2024-12-09T03:15:40.949040Z",
     "iopub.status.busy": "2024-12-09T03:15:40.948639Z",
     "iopub.status.idle": "2024-12-09T03:15:40.965473Z",
     "shell.execute_reply": "2024-12-09T03:15:40.964502Z",
     "shell.execute_reply.started": "2024-12-09T03:15:40.949012Z"
    }
   },
   "outputs": [
    {
     "data": {
      "text/html": [
       "<div>\n",
       "<style scoped>\n",
       "    .dataframe tbody tr th:only-of-type {\n",
       "        vertical-align: middle;\n",
       "    }\n",
       "\n",
       "    .dataframe tbody tr th {\n",
       "        vertical-align: top;\n",
       "    }\n",
       "\n",
       "    .dataframe thead th {\n",
       "        text-align: right;\n",
       "    }\n",
       "</style>\n",
       "<table border=\"1\" class=\"dataframe\">\n",
       "  <thead>\n",
       "    <tr style=\"text-align: right;\">\n",
       "      <th></th>\n",
       "      <th>weight</th>\n",
       "      <th>FullName</th>\n",
       "      <th>Description</th>\n",
       "      <th>misc_properties</th>\n",
       "    </tr>\n",
       "    <tr>\n",
       "      <th>uid</th>\n",
       "      <th></th>\n",
       "      <th></th>\n",
       "      <th></th>\n",
       "      <th></th>\n",
       "    </tr>\n",
       "  </thead>\n",
       "  <tbody>\n",
       "    <tr>\n",
       "      <th>MY</th>\n",
       "      <td>0.76</td>\n",
       "      <td>Monsieur Charles Fran\\c{c}ois Bienvenu Myriel</td>\n",
       "      <td>Bishop of D--</td>\n",
       "      <td>{'avocation': 'to be kind'}</td>\n",
       "    </tr>\n",
       "    <tr>\n",
       "      <th>NP</th>\n",
       "      <td>0.77</td>\n",
       "      <td>Napoleon</td>\n",
       "      <td>Emperor of France</td>\n",
       "      <td>{}</td>\n",
       "    </tr>\n",
       "    <tr>\n",
       "      <th>MB</th>\n",
       "      <td>0.69</td>\n",
       "      <td>Mademoiselle Baptistine</td>\n",
       "      <td>sister of MY</td>\n",
       "      <td>{}</td>\n",
       "    </tr>\n",
       "    <tr>\n",
       "      <th>ME</th>\n",
       "      <td>0.89</td>\n",
       "      <td>Madame Magloire</td>\n",
       "      <td>housekeeper to MY</td>\n",
       "      <td>{}</td>\n",
       "    </tr>\n",
       "    <tr>\n",
       "      <th>CL</th>\n",
       "      <td>0.38</td>\n",
       "      <td>Countess de Lô</td>\n",
       "      <td>distant relative of MY</td>\n",
       "      <td>{}</td>\n",
       "    </tr>\n",
       "  </tbody>\n",
       "</table>\n",
       "</div>"
      ],
      "text/plain": [
       "     weight                                       FullName  \\\n",
       "uid                                                          \n",
       "MY     0.76  Monsieur Charles Fran\\c{c}ois Bienvenu Myriel   \n",
       "NP     0.77                                       Napoleon   \n",
       "MB     0.69                        Mademoiselle Baptistine   \n",
       "ME     0.89                                Madame Magloire   \n",
       "CL     0.38                                 Countess de Lô   \n",
       "\n",
       "                 Description              misc_properties  \n",
       "uid                                                        \n",
       "MY             Bishop of D--  {'avocation': 'to be kind'}  \n",
       "NP         Emperor of France                           {}  \n",
       "MB              sister of MY                           {}  \n",
       "ME         housekeeper to MY                           {}  \n",
       "CL    distant relative of MY                           {}  "
      ]
     },
     "execution_count": 11,
     "metadata": {},
     "output_type": "execute_result"
    }
   ],
   "source": [
    "h.nodes.dataframe.head()"
   ]
  },
  {
   "cell_type": "markdown",
   "metadata": {},
   "source": [
    "## Examples contributed from XGI data\n"
   ]
  },
  {
   "cell_type": "markdown",
   "metadata": {
    "jp-MarkdownHeadingCollapsed": true
   },
   "source": [
    "### Contact High School\n",
    "Contact-High-School originally sourced from:\n",
    "https://www.cs.cornell.edu/~arb/data/contact-high-school/\n",
    "\n",
    "This example is already in json form, but not in the HIF standard. We construct an HNX hypergraph from the json, incorporating all data, then store it in HIF."
   ]
  },
  {
   "cell_type": "code",
   "execution_count": 12,
   "metadata": {
    "execution": {
     "iopub.execute_input": "2024-12-09T03:20:16.944696Z",
     "iopub.status.busy": "2024-12-09T03:20:16.943085Z",
     "iopub.status.idle": "2024-12-09T03:20:17.184748Z",
     "shell.execute_reply": "2024-12-09T03:20:17.184446Z",
     "shell.execute_reply.started": "2024-12-09T03:20:16.944653Z"
    }
   },
   "outputs": [
    {
     "data": {
      "text/plain": [
       "dict_keys(['nodes', 'hyperedges'])"
      ]
     },
     "execution_count": 12,
     "metadata": {},
     "output_type": "execute_result"
    }
   ],
   "source": [
    "chs = json.load(open(\"data/contacts-high-school-not-hif.json\", \"r\"))\n",
    "chs.keys()"
   ]
  },
  {
   "cell_type": "code",
   "execution_count": 13,
   "metadata": {
    "execution": {
     "iopub.execute_input": "2024-12-09T03:20:18.884963Z",
     "iopub.status.busy": "2024-12-09T03:20:18.884052Z",
     "iopub.status.idle": "2024-12-09T03:20:18.907822Z",
     "shell.execute_reply": "2024-12-09T03:20:18.907404Z",
     "shell.execute_reply.started": "2024-12-09T03:20:18.884923Z"
    },
    "scrolled": true
   },
   "outputs": [
    {
     "data": {
      "text/html": [
       "<div>\n",
       "<style scoped>\n",
       "    .dataframe tbody tr th:only-of-type {\n",
       "        vertical-align: middle;\n",
       "    }\n",
       "\n",
       "    .dataframe tbody tr th {\n",
       "        vertical-align: top;\n",
       "    }\n",
       "\n",
       "    .dataframe thead th {\n",
       "        text-align: right;\n",
       "    }\n",
       "</style>\n",
       "<table border=\"1\" class=\"dataframe\">\n",
       "  <thead>\n",
       "    <tr style=\"text-align: right;\">\n",
       "      <th></th>\n",
       "      <th>id</th>\n",
       "      <th>class</th>\n",
       "      <th>has_facebook</th>\n",
       "      <th>has_compiled_questionnaire</th>\n",
       "      <th>facebook_friends</th>\n",
       "      <th>sex</th>\n",
       "      <th>questionnaire_friends</th>\n",
       "    </tr>\n",
       "  </thead>\n",
       "  <tbody>\n",
       "    <tr>\n",
       "      <th>0</th>\n",
       "      <td>454</td>\n",
       "      <td>MP</td>\n",
       "      <td>True</td>\n",
       "      <td>False</td>\n",
       "      <td>[34, 151, 156, 159, 866, 640, 1232]</td>\n",
       "      <td>F</td>\n",
       "      <td>NaN</td>\n",
       "    </tr>\n",
       "    <tr>\n",
       "      <th>1</th>\n",
       "      <td>640</td>\n",
       "      <td>MP</td>\n",
       "      <td>True</td>\n",
       "      <td>False</td>\n",
       "      <td>[151, 159, 454]</td>\n",
       "      <td>M</td>\n",
       "      <td>NaN</td>\n",
       "    </tr>\n",
       "    <tr>\n",
       "      <th>2</th>\n",
       "      <td>1</td>\n",
       "      <td>2BIO3</td>\n",
       "      <td>True</td>\n",
       "      <td>True</td>\n",
       "      <td>[883, 132, 339, 653, 545, 171, 117, 196, 587, ...</td>\n",
       "      <td>M</td>\n",
       "      <td>[205, 272, 494, 779, 894]</td>\n",
       "    </tr>\n",
       "    <tr>\n",
       "      <th>3</th>\n",
       "      <td>939</td>\n",
       "      <td>2BIO3</td>\n",
       "      <td>True</td>\n",
       "      <td>False</td>\n",
       "      <td>[1, 55, 101, 106, 117, 119, 122, 132, 156, 170...</td>\n",
       "      <td>M</td>\n",
       "      <td>NaN</td>\n",
       "    </tr>\n",
       "    <tr>\n",
       "      <th>4</th>\n",
       "      <td>185</td>\n",
       "      <td>PC*</td>\n",
       "      <td>False</td>\n",
       "      <td>False</td>\n",
       "      <td>NaN</td>\n",
       "      <td>M</td>\n",
       "      <td>NaN</td>\n",
       "    </tr>\n",
       "    <tr>\n",
       "      <th>...</th>\n",
       "      <td>...</td>\n",
       "      <td>...</td>\n",
       "      <td>...</td>\n",
       "      <td>...</td>\n",
       "      <td>...</td>\n",
       "      <td>...</td>\n",
       "      <td>...</td>\n",
       "    </tr>\n",
       "    <tr>\n",
       "      <th>322</th>\n",
       "      <td>34</td>\n",
       "      <td>MP</td>\n",
       "      <td>True</td>\n",
       "      <td>True</td>\n",
       "      <td>[20, 513, 1332, 502, 454, 1870, 201, 245, 387,...</td>\n",
       "      <td>Unknown</td>\n",
       "      <td>[277, 502, 866]</td>\n",
       "    </tr>\n",
       "    <tr>\n",
       "      <th>323</th>\n",
       "      <td>239</td>\n",
       "      <td>2BIO2</td>\n",
       "      <td>False</td>\n",
       "      <td>False</td>\n",
       "      <td>NaN</td>\n",
       "      <td>F</td>\n",
       "      <td>NaN</td>\n",
       "    </tr>\n",
       "    <tr>\n",
       "      <th>324</th>\n",
       "      <td>62</td>\n",
       "      <td>2BIO1</td>\n",
       "      <td>True</td>\n",
       "      <td>False</td>\n",
       "      <td>[428, 425, 544, 122, 275]</td>\n",
       "      <td>F</td>\n",
       "      <td>NaN</td>\n",
       "    </tr>\n",
       "    <tr>\n",
       "      <th>325</th>\n",
       "      <td>452</td>\n",
       "      <td>PSI*</td>\n",
       "      <td>True</td>\n",
       "      <td>True</td>\n",
       "      <td>[20, 34, 151, 156, 246, 387, 440, 691, 513, 86...</td>\n",
       "      <td>M</td>\n",
       "      <td>[634, 691, 869, 1332]</td>\n",
       "    </tr>\n",
       "    <tr>\n",
       "      <th>326</th>\n",
       "      <td>445</td>\n",
       "      <td>MP*1</td>\n",
       "      <td>False</td>\n",
       "      <td>False</td>\n",
       "      <td>NaN</td>\n",
       "      <td>M</td>\n",
       "      <td>NaN</td>\n",
       "    </tr>\n",
       "  </tbody>\n",
       "</table>\n",
       "<p>327 rows × 7 columns</p>\n",
       "</div>"
      ],
      "text/plain": [
       "      id  class  has_facebook  has_compiled_questionnaire  \\\n",
       "0    454     MP          True                       False   \n",
       "1    640     MP          True                       False   \n",
       "2      1  2BIO3          True                        True   \n",
       "3    939  2BIO3          True                       False   \n",
       "4    185    PC*         False                       False   \n",
       "..   ...    ...           ...                         ...   \n",
       "322   34     MP          True                        True   \n",
       "323  239  2BIO2         False                       False   \n",
       "324   62  2BIO1          True                       False   \n",
       "325  452   PSI*          True                        True   \n",
       "326  445   MP*1         False                       False   \n",
       "\n",
       "                                      facebook_friends      sex  \\\n",
       "0                  [34, 151, 156, 159, 866, 640, 1232]        F   \n",
       "1                                      [151, 159, 454]        M   \n",
       "2    [883, 132, 339, 653, 545, 171, 117, 196, 587, ...        M   \n",
       "3    [1, 55, 101, 106, 117, 119, 122, 132, 156, 170...        M   \n",
       "4                                                  NaN        M   \n",
       "..                                                 ...      ...   \n",
       "322  [20, 513, 1332, 502, 454, 1870, 201, 245, 387,...  Unknown   \n",
       "323                                                NaN        F   \n",
       "324                          [428, 425, 544, 122, 275]        F   \n",
       "325  [20, 34, 151, 156, 246, 387, 440, 691, 513, 86...        M   \n",
       "326                                                NaN        M   \n",
       "\n",
       "         questionnaire_friends  \n",
       "0                          NaN  \n",
       "1                          NaN  \n",
       "2    [205, 272, 494, 779, 894]  \n",
       "3                          NaN  \n",
       "4                          NaN  \n",
       "..                         ...  \n",
       "322            [277, 502, 866]  \n",
       "323                        NaN  \n",
       "324                        NaN  \n",
       "325      [634, 691, 869, 1332]  \n",
       "326                        NaN  \n",
       "\n",
       "[327 rows x 7 columns]"
      ]
     },
     "execution_count": 13,
     "metadata": {},
     "output_type": "execute_result"
    }
   ],
   "source": [
    "### Create a nodes dataframe with all of the properties\n",
    "chsnodes = pd.DataFrame(chs[\"nodes\"])\n",
    "chsnodes = chsnodes.set_index(\"id\").reset_index()\n",
    "chsnodes"
   ]
  },
  {
   "cell_type": "code",
   "execution_count": 14,
   "metadata": {
    "execution": {
     "iopub.execute_input": "2024-12-09T03:20:25.801438Z",
     "iopub.status.busy": "2024-12-09T03:20:25.801015Z",
     "iopub.status.idle": "2024-12-09T03:20:32.157765Z",
     "shell.execute_reply": "2024-12-09T03:20:32.157462Z",
     "shell.execute_reply.started": "2024-12-09T03:20:25.801409Z"
    }
   },
   "outputs": [],
   "source": [
    "## Create an incidences datafame with timestamps included\n",
    "chsinc = (\n",
    "    pd.DataFrame(chs[\"hyperedges\"])\n",
    "    .reset_index()\n",
    "    .rename(columns={\"index\": \"edge\", \"interaction\": \"node\"})\n",
    ")\n",
    "df = (\n",
    "    chsinc[\"node\"]\n",
    "    .explode()\n",
    "    .reset_index()\n",
    "    .rename(columns={\"index\": \"edge\", \"interaction\": \"node\"})\n",
    ")\n",
    "df[\"time\"] = [chsinc.loc[row.edge].time for row in df.itertuples()]"
   ]
  },
  {
   "cell_type": "code",
   "execution_count": 15,
   "metadata": {
    "execution": {
     "iopub.execute_input": "2024-12-09T03:20:32.158520Z",
     "iopub.status.busy": "2024-12-09T03:20:32.158425Z",
     "iopub.status.idle": "2024-12-09T03:20:32.163418Z",
     "shell.execute_reply": "2024-12-09T03:20:32.162811Z",
     "shell.execute_reply.started": "2024-12-09T03:20:32.158510Z"
    },
    "scrolled": true
   },
   "outputs": [
    {
     "data": {
      "text/html": [
       "<div>\n",
       "<style scoped>\n",
       "    .dataframe tbody tr th:only-of-type {\n",
       "        vertical-align: middle;\n",
       "    }\n",
       "\n",
       "    .dataframe tbody tr th {\n",
       "        vertical-align: top;\n",
       "    }\n",
       "\n",
       "    .dataframe thead th {\n",
       "        text-align: right;\n",
       "    }\n",
       "</style>\n",
       "<table border=\"1\" class=\"dataframe\">\n",
       "  <thead>\n",
       "    <tr style=\"text-align: right;\">\n",
       "      <th></th>\n",
       "      <th>edge</th>\n",
       "      <th>node</th>\n",
       "      <th>time</th>\n",
       "    </tr>\n",
       "  </thead>\n",
       "  <tbody>\n",
       "    <tr>\n",
       "      <th>0</th>\n",
       "      <td>0</td>\n",
       "      <td>[454, 640]</td>\n",
       "      <td>1385982020</td>\n",
       "    </tr>\n",
       "    <tr>\n",
       "      <th>1</th>\n",
       "      <td>1</td>\n",
       "      <td>[1, 939]</td>\n",
       "      <td>1385982020</td>\n",
       "    </tr>\n",
       "    <tr>\n",
       "      <th>2</th>\n",
       "      <td>2</td>\n",
       "      <td>[185, 258]</td>\n",
       "      <td>1385982020</td>\n",
       "    </tr>\n",
       "    <tr>\n",
       "      <th>3</th>\n",
       "      <td>3</td>\n",
       "      <td>[9, 45]</td>\n",
       "      <td>1385982020</td>\n",
       "    </tr>\n",
       "    <tr>\n",
       "      <th>4</th>\n",
       "      <td>4</td>\n",
       "      <td>[9, 453]</td>\n",
       "      <td>1385982020</td>\n",
       "    </tr>\n",
       "    <tr>\n",
       "      <th>5</th>\n",
       "      <td>5</td>\n",
       "      <td>[265, 494]</td>\n",
       "      <td>1385982020</td>\n",
       "    </tr>\n",
       "    <tr>\n",
       "      <th>6</th>\n",
       "      <td>6</td>\n",
       "      <td>[376, 638]</td>\n",
       "      <td>1385982020</td>\n",
       "    </tr>\n",
       "    <tr>\n",
       "      <th>7</th>\n",
       "      <td>7</td>\n",
       "      <td>[14, 190]</td>\n",
       "      <td>1385982020</td>\n",
       "    </tr>\n",
       "    <tr>\n",
       "      <th>8</th>\n",
       "      <td>8</td>\n",
       "      <td>[400, 637]</td>\n",
       "      <td>1385982020</td>\n",
       "    </tr>\n",
       "    <tr>\n",
       "      <th>9</th>\n",
       "      <td>9</td>\n",
       "      <td>[255, 275]</td>\n",
       "      <td>1385982020</td>\n",
       "    </tr>\n",
       "  </tbody>\n",
       "</table>\n",
       "</div>"
      ],
      "text/plain": [
       "   edge        node        time\n",
       "0     0  [454, 640]  1385982020\n",
       "1     1    [1, 939]  1385982020\n",
       "2     2  [185, 258]  1385982020\n",
       "3     3     [9, 45]  1385982020\n",
       "4     4    [9, 453]  1385982020\n",
       "5     5  [265, 494]  1385982020\n",
       "6     6  [376, 638]  1385982020\n",
       "7     7   [14, 190]  1385982020\n",
       "8     8  [400, 637]  1385982020\n",
       "9     9  [255, 275]  1385982020"
      ]
     },
     "execution_count": 15,
     "metadata": {},
     "output_type": "execute_result"
    }
   ],
   "source": [
    "chsinc.head(n=10)"
   ]
  },
  {
   "cell_type": "code",
   "execution_count": 16,
   "metadata": {
    "execution": {
     "iopub.execute_input": "2024-12-09T03:20:32.164380Z",
     "iopub.status.busy": "2024-12-09T03:20:32.164206Z",
     "iopub.status.idle": "2024-12-09T03:20:34.826532Z",
     "shell.execute_reply": "2024-12-09T03:20:34.826166Z",
     "shell.execute_reply.started": "2024-12-09T03:20:32.164364Z"
    }
   },
   "outputs": [],
   "source": [
    "chshyp = hnx.Hypergraph(\n",
    "    df, node_properties=chsnodes, name=\"contacts-high-school from XGI\"\n",
    ")"
   ]
  },
  {
   "cell_type": "code",
   "execution_count": 17,
   "metadata": {
    "execution": {
     "iopub.execute_input": "2024-12-09T03:20:34.827931Z",
     "iopub.status.busy": "2024-12-09T03:20:34.827811Z",
     "iopub.status.idle": "2024-12-09T03:21:03.231043Z",
     "shell.execute_reply": "2024-12-09T03:21:03.230677Z",
     "shell.execute_reply.started": "2024-12-09T03:20:34.827919Z"
    }
   },
   "outputs": [
    {
     "data": {
      "text/plain": [
       "{'default_attrs': {'nodes': {'weight': 1,\n",
       "   'class': None,\n",
       "   'has_facebook': None,\n",
       "   'has_compiled_questionnaire': None,\n",
       "   'facebook_friends': None,\n",
       "   'sex': None,\n",
       "   'questionnaire_friends': None,\n",
       "   'attrs': {}},\n",
       "  'edges': {'weight': 1, 'attrs': {}},\n",
       "  'incidences': {'weight': 1, 'time': None, 'attrs': {}}},\n",
       " 'name': 'contacts-high-school from XGI'}"
      ]
     },
     "execution_count": 17,
     "metadata": {},
     "output_type": "execute_result"
    }
   ],
   "source": [
    "# %%time\n",
    "# CPU times: user 27.7 s, sys: 259 ms, total: 27.9 s\n",
    "# Wall time: 28 s\n",
    "\n",
    "hif = hnx.to_hif(chshyp, filename=\"../tutorials/data/contacts_high_school.hif.json\")\n",
    "hif[\"metadata\"]"
   ]
  },
  {
   "cell_type": "code",
   "execution_count": 18,
   "metadata": {
    "execution": {
     "iopub.execute_input": "2024-12-09T03:21:03.231837Z",
     "iopub.status.busy": "2024-12-09T03:21:03.231660Z",
     "iopub.status.idle": "2024-12-09T03:21:03.238376Z",
     "shell.execute_reply": "2024-12-09T03:21:03.238046Z",
     "shell.execute_reply.started": "2024-12-09T03:21:03.231825Z"
    },
    "scrolled": true
   },
   "outputs": [
    {
     "data": {
      "text/plain": [
       "{'nrows': 327,\n",
       " 'ncols': 172035,\n",
       " 'aspect ratio': 0.0019007760048827273,\n",
       " 'ncells': 352718,\n",
       " 'density': 0.0062699352924859095}"
      ]
     },
     "execution_count": 18,
     "metadata": {},
     "output_type": "execute_result"
    }
   ],
   "source": [
    "hnx.info_dict(chshyp)"
   ]
  },
  {
   "cell_type": "code",
   "execution_count": 19,
   "metadata": {
    "execution": {
     "iopub.execute_input": "2024-12-09T03:21:03.240026Z",
     "iopub.status.busy": "2024-12-09T03:21:03.239847Z",
     "iopub.status.idle": "2024-12-09T03:21:09.532944Z",
     "shell.execute_reply": "2024-12-09T03:21:09.532643Z",
     "shell.execute_reply.started": "2024-12-09T03:21:03.240015Z"
    }
   },
   "outputs": [
    {
     "data": {
      "text/html": [
       "<div>\n",
       "<style scoped>\n",
       "    .dataframe tbody tr th:only-of-type {\n",
       "        vertical-align: middle;\n",
       "    }\n",
       "\n",
       "    .dataframe tbody tr th {\n",
       "        vertical-align: top;\n",
       "    }\n",
       "\n",
       "    .dataframe thead th {\n",
       "        text-align: right;\n",
       "    }\n",
       "</style>\n",
       "<table border=\"1\" class=\"dataframe\">\n",
       "  <thead>\n",
       "    <tr style=\"text-align: right;\">\n",
       "      <th></th>\n",
       "      <th>weight</th>\n",
       "      <th>has_facebook</th>\n",
       "      <th>class</th>\n",
       "      <th>sex</th>\n",
       "      <th>facebook_friends</th>\n",
       "      <th>questionnaire_friends</th>\n",
       "      <th>has_compiled_questionnaire</th>\n",
       "      <th>misc_properties</th>\n",
       "    </tr>\n",
       "    <tr>\n",
       "      <th>uid</th>\n",
       "      <th></th>\n",
       "      <th></th>\n",
       "      <th></th>\n",
       "      <th></th>\n",
       "      <th></th>\n",
       "      <th></th>\n",
       "      <th></th>\n",
       "      <th></th>\n",
       "    </tr>\n",
       "  </thead>\n",
       "  <tbody>\n",
       "    <tr>\n",
       "      <th>454</th>\n",
       "      <td>1</td>\n",
       "      <td>True</td>\n",
       "      <td>MP</td>\n",
       "      <td>F</td>\n",
       "      <td>[34, 151, 156, 159, 866, 640, 1232]</td>\n",
       "      <td>NaN</td>\n",
       "      <td>False</td>\n",
       "      <td>{}</td>\n",
       "    </tr>\n",
       "    <tr>\n",
       "      <th>640</th>\n",
       "      <td>1</td>\n",
       "      <td>True</td>\n",
       "      <td>MP</td>\n",
       "      <td>M</td>\n",
       "      <td>[151, 159, 454]</td>\n",
       "      <td>NaN</td>\n",
       "      <td>False</td>\n",
       "      <td>{}</td>\n",
       "    </tr>\n",
       "    <tr>\n",
       "      <th>1</th>\n",
       "      <td>1</td>\n",
       "      <td>True</td>\n",
       "      <td>2BIO3</td>\n",
       "      <td>M</td>\n",
       "      <td>[883, 132, 339, 653, 545, 171, 117, 196, 587, ...</td>\n",
       "      <td>[205, 272, 494, 779, 894]</td>\n",
       "      <td>True</td>\n",
       "      <td>{}</td>\n",
       "    </tr>\n",
       "    <tr>\n",
       "      <th>939</th>\n",
       "      <td>1</td>\n",
       "      <td>True</td>\n",
       "      <td>2BIO3</td>\n",
       "      <td>M</td>\n",
       "      <td>[1, 55, 101, 106, 117, 119, 122, 132, 156, 170...</td>\n",
       "      <td>NaN</td>\n",
       "      <td>False</td>\n",
       "      <td>{}</td>\n",
       "    </tr>\n",
       "    <tr>\n",
       "      <th>185</th>\n",
       "      <td>1</td>\n",
       "      <td>False</td>\n",
       "      <td>PC*</td>\n",
       "      <td>M</td>\n",
       "      <td>NaN</td>\n",
       "      <td>NaN</td>\n",
       "      <td>False</td>\n",
       "      <td>{}</td>\n",
       "    </tr>\n",
       "  </tbody>\n",
       "</table>\n",
       "</div>"
      ],
      "text/plain": [
       "     weight  has_facebook  class sex  \\\n",
       "uid                                    \n",
       "454       1          True     MP   F   \n",
       "640       1          True     MP   M   \n",
       "1         1          True  2BIO3   M   \n",
       "939       1          True  2BIO3   M   \n",
       "185       1         False    PC*   M   \n",
       "\n",
       "                                      facebook_friends  \\\n",
       "uid                                                      \n",
       "454                [34, 151, 156, 159, 866, 640, 1232]   \n",
       "640                                    [151, 159, 454]   \n",
       "1    [883, 132, 339, 653, 545, 171, 117, 196, 587, ...   \n",
       "939  [1, 55, 101, 106, 117, 119, 122, 132, 156, 170...   \n",
       "185                                                NaN   \n",
       "\n",
       "         questionnaire_friends  has_compiled_questionnaire misc_properties  \n",
       "uid                                                                         \n",
       "454                        NaN                       False              {}  \n",
       "640                        NaN                       False              {}  \n",
       "1    [205, 272, 494, 779, 894]                        True              {}  \n",
       "939                        NaN                       False              {}  \n",
       "185                        NaN                       False              {}  "
      ]
     },
     "execution_count": 19,
     "metadata": {},
     "output_type": "execute_result"
    }
   ],
   "source": [
    "# %time\n",
    "# CPU times: user 1e+03 ns, sys: 1e+03 ns, total: 2 μs\n",
    "# Wall time: 2.86 μs\n",
    "\n",
    "H = hnx.from_hif(filename=\"../tutorials/data/contacts_high_school.hif.json\")\n",
    "H.nodes.dataframe.head()"
   ]
  },
  {
   "cell_type": "markdown",
   "metadata": {
    "jp-MarkdownHeadingCollapsed": true
   },
   "source": [
    "### e-coli"
   ]
  },
  {
   "cell_type": "code",
   "execution_count": 21,
   "metadata": {
    "execution": {
     "iopub.execute_input": "2024-12-09T03:21:09.533632Z",
     "iopub.status.busy": "2024-12-09T03:21:09.533533Z",
     "iopub.status.idle": "2024-12-09T03:21:09.563923Z",
     "shell.execute_reply": "2024-12-09T03:21:09.563605Z",
     "shell.execute_reply.started": "2024-12-09T03:21:09.533622Z"
    }
   },
   "outputs": [
    {
     "data": {
      "text/html": [
       "<div>\n",
       "<style scoped>\n",
       "    .dataframe tbody tr th:only-of-type {\n",
       "        vertical-align: middle;\n",
       "    }\n",
       "\n",
       "    .dataframe tbody tr th {\n",
       "        vertical-align: top;\n",
       "    }\n",
       "\n",
       "    .dataframe thead th {\n",
       "        text-align: right;\n",
       "    }\n",
       "</style>\n",
       "<table border=\"1\" class=\"dataframe\">\n",
       "  <thead>\n",
       "    <tr style=\"text-align: right;\">\n",
       "      <th></th>\n",
       "      <th>weight</th>\n",
       "      <th>misc_properties</th>\n",
       "    </tr>\n",
       "    <tr>\n",
       "      <th>uid</th>\n",
       "      <th></th>\n",
       "      <th></th>\n",
       "    </tr>\n",
       "  </thead>\n",
       "  <tbody>\n",
       "    <tr>\n",
       "      <th>PFK</th>\n",
       "      <td>1</td>\n",
       "      <td>{'name': 'Phosphofructokinase'}</td>\n",
       "    </tr>\n",
       "    <tr>\n",
       "      <th>PFL</th>\n",
       "      <td>1</td>\n",
       "      <td>{'name': 'Pyruvate formate lyase'}</td>\n",
       "    </tr>\n",
       "    <tr>\n",
       "      <th>PGI</th>\n",
       "      <td>1</td>\n",
       "      <td>{'name': 'Glucose-6-phosphate isomerase'}</td>\n",
       "    </tr>\n",
       "    <tr>\n",
       "      <th>PGI_reverse</th>\n",
       "      <td>1</td>\n",
       "      <td>{'name': 'Glucose-6-phosphate isomerase'}</td>\n",
       "    </tr>\n",
       "    <tr>\n",
       "      <th>PGK</th>\n",
       "      <td>1</td>\n",
       "      <td>{'name': 'Phosphoglycerate kinase'}</td>\n",
       "    </tr>\n",
       "  </tbody>\n",
       "</table>\n",
       "</div>"
      ],
      "text/plain": [
       "             weight                            misc_properties\n",
       "uid                                                           \n",
       "PFK               1            {'name': 'Phosphofructokinase'}\n",
       "PFL               1         {'name': 'Pyruvate formate lyase'}\n",
       "PGI               1  {'name': 'Glucose-6-phosphate isomerase'}\n",
       "PGI_reverse       1  {'name': 'Glucose-6-phosphate isomerase'}\n",
       "PGK               1        {'name': 'Phosphoglycerate kinase'}"
      ]
     },
     "execution_count": 21,
     "metadata": {},
     "output_type": "execute_result"
    }
   ],
   "source": [
    "H = hnx.from_hif(filename=\"../tutorials/data/e-coli.json\")\n",
    "H.edges.dataframe.head()"
   ]
  },
  {
   "cell_type": "code",
   "execution_count": 22,
   "metadata": {
    "execution": {
     "iopub.execute_input": "2024-12-09T03:21:09.564743Z",
     "iopub.status.busy": "2024-12-09T03:21:09.564565Z",
     "iopub.status.idle": "2024-12-09T03:21:09.567678Z",
     "shell.execute_reply": "2024-12-09T03:21:09.567298Z",
     "shell.execute_reply.started": "2024-12-09T03:21:09.564730Z"
    }
   },
   "outputs": [
    {
     "data": {
      "text/plain": [
       "'e_coli_core'"
      ]
     },
     "execution_count": 22,
     "metadata": {},
     "output_type": "execute_result"
    }
   ],
   "source": [
    "H.name"
   ]
  },
  {
   "cell_type": "markdown",
   "metadata": {},
   "source": [
    "### email-enron"
   ]
  },
  {
   "cell_type": "code",
   "execution_count": 23,
   "metadata": {
    "execution": {
     "iopub.execute_input": "2024-12-09T03:21:09.568414Z",
     "iopub.status.busy": "2024-12-09T03:21:09.568297Z",
     "iopub.status.idle": "2024-12-09T03:21:09.926088Z",
     "shell.execute_reply": "2024-12-09T03:21:09.925732Z",
     "shell.execute_reply.started": "2024-12-09T03:21:09.568403Z"
    }
   },
   "outputs": [
    {
     "data": {
      "text/plain": [
       "'email-Enron'"
      ]
     },
     "execution_count": 23,
     "metadata": {},
     "output_type": "execute_result"
    }
   ],
   "source": [
    "H = hnx.from_hif(filename=\"../tutorials/data/email-enron.json\")\n",
    "H.name"
   ]
  },
  {
   "cell_type": "code",
   "execution_count": 24,
   "metadata": {
    "execution": {
     "iopub.execute_input": "2024-12-09T03:21:09.926771Z",
     "iopub.status.busy": "2024-12-09T03:21:09.926670Z",
     "iopub.status.idle": "2024-12-09T03:21:09.932034Z",
     "shell.execute_reply": "2024-12-09T03:21:09.931573Z",
     "shell.execute_reply.started": "2024-12-09T03:21:09.926760Z"
    }
   },
   "outputs": [
    {
     "data": {
      "text/html": [
       "<div>\n",
       "<style scoped>\n",
       "    .dataframe tbody tr th:only-of-type {\n",
       "        vertical-align: middle;\n",
       "    }\n",
       "\n",
       "    .dataframe tbody tr th {\n",
       "        vertical-align: top;\n",
       "    }\n",
       "\n",
       "    .dataframe thead th {\n",
       "        text-align: right;\n",
       "    }\n",
       "</style>\n",
       "<table border=\"1\" class=\"dataframe\">\n",
       "  <thead>\n",
       "    <tr style=\"text-align: right;\">\n",
       "      <th></th>\n",
       "      <th>weight</th>\n",
       "      <th>misc_properties</th>\n",
       "    </tr>\n",
       "  </thead>\n",
       "  <tbody>\n",
       "    <tr>\n",
       "      <th>n74</th>\n",
       "      <td>1</td>\n",
       "      <td>{'name': 'thomas.martin@enron.com'}</td>\n",
       "    </tr>\n",
       "    <tr>\n",
       "      <th>n107</th>\n",
       "      <td>1</td>\n",
       "      <td>{'name': 'monique.sanchez@enron.com'}</td>\n",
       "    </tr>\n",
       "    <tr>\n",
       "      <th>n55</th>\n",
       "      <td>1</td>\n",
       "      <td>{'name': 'tana.jones@enron.com'}</td>\n",
       "    </tr>\n",
       "    <tr>\n",
       "      <th>n12</th>\n",
       "      <td>1</td>\n",
       "      <td>{'name': 'rick.buy@enron.com'}</td>\n",
       "    </tr>\n",
       "    <tr>\n",
       "      <th>n13</th>\n",
       "      <td>1</td>\n",
       "      <td>{'name': 'larry.campbell@enron.com'}</td>\n",
       "    </tr>\n",
       "  </tbody>\n",
       "</table>\n",
       "</div>"
      ],
      "text/plain": [
       "      weight                        misc_properties\n",
       "n74        1    {'name': 'thomas.martin@enron.com'}\n",
       "n107       1  {'name': 'monique.sanchez@enron.com'}\n",
       "n55        1       {'name': 'tana.jones@enron.com'}\n",
       "n12        1         {'name': 'rick.buy@enron.com'}\n",
       "n13        1   {'name': 'larry.campbell@enron.com'}"
      ]
     },
     "execution_count": 24,
     "metadata": {},
     "output_type": "execute_result"
    }
   ],
   "source": [
    "H.nodes.dataframe.head()"
   ]
  },
  {
   "cell_type": "code",
   "execution_count": 25,
   "metadata": {
    "execution": {
     "iopub.execute_input": "2024-12-09T03:21:09.934471Z",
     "iopub.status.busy": "2024-12-09T03:21:09.934319Z",
     "iopub.status.idle": "2024-12-09T03:21:09.959939Z",
     "shell.execute_reply": "2024-12-09T03:21:09.959580Z",
     "shell.execute_reply.started": "2024-12-09T03:21:09.934460Z"
    }
   },
   "outputs": [
    {
     "data": {
      "text/html": [
       "<div>\n",
       "<style scoped>\n",
       "    .dataframe tbody tr th:only-of-type {\n",
       "        vertical-align: middle;\n",
       "    }\n",
       "\n",
       "    .dataframe tbody tr th {\n",
       "        vertical-align: top;\n",
       "    }\n",
       "\n",
       "    .dataframe thead th {\n",
       "        text-align: right;\n",
       "    }\n",
       "</style>\n",
       "<table border=\"1\" class=\"dataframe\">\n",
       "  <thead>\n",
       "    <tr style=\"text-align: right;\">\n",
       "      <th></th>\n",
       "      <th>weight</th>\n",
       "      <th>misc_properties</th>\n",
       "    </tr>\n",
       "  </thead>\n",
       "  <tbody>\n",
       "    <tr>\n",
       "      <th>e3598</th>\n",
       "      <td>1</td>\n",
       "      <td>{'timestamp': '2001-10-03T22:18:19'}</td>\n",
       "    </tr>\n",
       "    <tr>\n",
       "      <th>e1365</th>\n",
       "      <td>1</td>\n",
       "      <td>{'timestamp': '2001-01-05T11:02:00'}</td>\n",
       "    </tr>\n",
       "    <tr>\n",
       "      <th>5314</th>\n",
       "      <td>1</td>\n",
       "      <td>{}</td>\n",
       "    </tr>\n",
       "    <tr>\n",
       "      <th>e2239</th>\n",
       "      <td>1</td>\n",
       "      <td>{'timestamp': '2001-12-07T20:30:06'}</td>\n",
       "    </tr>\n",
       "    <tr>\n",
       "      <th>5600</th>\n",
       "      <td>1</td>\n",
       "      <td>{}</td>\n",
       "    </tr>\n",
       "  </tbody>\n",
       "</table>\n",
       "</div>"
      ],
      "text/plain": [
       "       weight                       misc_properties\n",
       "e3598       1  {'timestamp': '2001-10-03T22:18:19'}\n",
       "e1365       1  {'timestamp': '2001-01-05T11:02:00'}\n",
       "5314        1                                    {}\n",
       "e2239       1  {'timestamp': '2001-12-07T20:30:06'}\n",
       "5600        1                                    {}"
      ]
     },
     "execution_count": 25,
     "metadata": {},
     "output_type": "execute_result"
    }
   ],
   "source": [
    "H.edges.dataframe.head()"
   ]
  },
  {
   "cell_type": "code",
   "execution_count": 26,
   "metadata": {
    "execution": {
     "iopub.execute_input": "2024-12-09T03:21:09.960593Z",
     "iopub.status.busy": "2024-12-09T03:21:09.960496Z",
     "iopub.status.idle": "2024-12-09T03:21:10.209502Z",
     "shell.execute_reply": "2024-12-09T03:21:10.209128Z",
     "shell.execute_reply.started": "2024-12-09T03:21:09.960582Z"
    }
   },
   "outputs": [
    {
     "data": {
      "text/plain": [
       "(array([1.017e+04, 6.290e+02, 5.300e+01, 2.800e+01, 4.000e+00, 0.000e+00,\n",
       "        0.000e+00, 0.000e+00, 0.000e+00, 2.000e+00]),\n",
       " array([ 1. ,  4.6,  8.2, 11.8, 15.4, 19. , 22.6, 26.2, 29.8, 33.4, 37. ]),\n",
       " <BarContainer object of 10 artists>)"
      ]
     },
     "execution_count": 26,
     "metadata": {},
     "output_type": "execute_result"
    },
    {
     "data": {
      "image/png": "[encoded data removed]",
      "text/plain": [
       "<Figure size 800x800 with 1 Axes>"
      ]
     },
     "metadata": {},
     "output_type": "display_data"
    }
   ],
   "source": [
    "plt.hist(hnx.edge_size_dist(H), log=True)"
   ]
  },
  {
   "cell_type": "code",
   "execution_count": null,
   "metadata": {},
   "outputs": [],
   "source": []
  }
 ],
 "metadata": {
  "kernelspec": {
   "display_name": "xgi",
   "language": "python",
   "name": "python3"
  },
  "language_info": {
   "codemirror_mode": {
    "name": "ipython",
    "version": 3
   },
   "file_extension": ".py",
   "mimetype": "text/x-python",
   "name": "python",
   "nbconvert_exporter": "python",
   "pygments_lexer": "ipython3",
   "version": "3.12.4"
  }
 },
 "nbformat": 4,
 "nbformat_minor": 4
}
